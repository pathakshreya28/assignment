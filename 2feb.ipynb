{
 "cells": [
  {
   "cell_type": "code",
   "execution_count": 1,
   "id": "1fb0ada9-7b49-42f7-94c1-862de839b136",
   "metadata": {},
   "outputs": [
    {
     "name": "stdout",
     "output_type": "stream",
     "text": [
      "1\n",
      "2\n",
      "3\n",
      "4\n",
      "5\n",
      "2\n",
      "4\n",
      "6\n",
      "8\n",
      "10\n"
     ]
    }
   ],
   "source": [
    "####Problem 1\n",
    "## For loop can be used where the number of iterations is known to us\n",
    "# example :- printing elements of a list individually (note :- here elements of a list is finite i.e iterations are finite)\n",
    "l = [1,2,3,4,5]\n",
    "for a in l:\n",
    "    print(a)\n",
    "## while loop can be used where the number of iterations is not known properly to us\n",
    "# example :- printing even numbers upto a given number\n",
    "b = 1\n",
    "while b<=10:\n",
    "    if b%2 == 0:\n",
    "        print(b)\n",
    "    b+=1"
   ]
  },
  {
   "cell_type": "code",
   "execution_count": 2,
   "id": "726390ee-7aa9-4e35-902d-6100f7da9125",
   "metadata": {},
   "outputs": [
    {
     "name": "stdout",
     "output_type": "stream",
     "text": [
      "55 3628800\n",
      "55 3628800\n"
     ]
    }
   ],
   "source": [
    "#### Problem 2\n",
    "## using for loop\n",
    "l = list(range(1,11))\n",
    "s = 0\n",
    "p = 1\n",
    "for a in l :\n",
    "    s+=a\n",
    "    p*=a\n",
    "print(s,p)\n",
    "## using while loop \n",
    "o = 1\n",
    "s1 = 0\n",
    "p1 = 1\n",
    "while o <= 10:\n",
    "    s1 += l[(o-1)]\n",
    "    p1 *= l[(o-1)]\n",
    "    o+=1\n",
    "print(s1,p1)"
   ]
  },
  {
   "cell_type": "code",
   "execution_count": null,
   "id": "50320fa6-3242-460d-ac36-5e6a501d43c0",
   "metadata": {},
   "outputs": [],
   "source": [
    "### Problem 3 \n",
    "u = eval(input('Welcome to Electricity Bill Calculator , Enter no. of Units Consumed : '))\n",
    "cost = 0\n",
    "for a in range(u+1):\n",
    "    if a<=100 and a>0:\n",
    "        cost+=4.5\n",
    "    elif a<=200 and a>100:\n",
    "        cost+=6\n",
    "    elif a<=300 and a>200:\n",
    "        cost+=10\n",
    "    elif a>300:\n",
    "        cost+=20\n",
    "print(cost)"
   ]
  },
  {
   "cell_type": "code",
   "execution_count": 1,
   "id": "18b0608b-bdb6-453b-80f8-fb696ac7d78e",
   "metadata": {},
   "outputs": [
    {
     "name": "stdout",
     "output_type": "stream",
     "text": [
      "[2, 4, 5, 6, 8, 10, 12, 14, 15, 16, 18, 20, 22, 24, 25, 26, 28, 30, 32, 34, 35, 36, 38, 40, 42, 44, 45, 46, 48, 50, 52, 54, 55, 56, 58, 60, 62, 64, 65, 66, 68, 70, 72, 74, 75, 76, 78, 80, 82, 84, 85, 86, 88, 90, 92, 94, 95, 96, 98, 100]\n"
     ]
    }
   ],
   "source": [
    "### Problem 4 \n",
    "#using for loop\n",
    "nl = list(range(1,101))\n",
    "l = []\n",
    "for a in nl:\n",
    "    if (a**3) % 4 == 0 or (a**3) % 5 == 0:\n",
    "        l.append(a)\n",
    "print(l)"
   ]
  },
  {
   "cell_type": "code",
   "execution_count": 5,
   "id": "233028ec-70b1-4332-b2ad-abe5ae1e294c",
   "metadata": {},
   "outputs": [
    {
     "name": "stdout",
     "output_type": "stream",
     "text": [
      "[2, 4, 5, 6, 8, 10, 12, 14, 15, 16, 18, 20, 22, 24, 25, 26, 28, 30, 32, 34, 35, 36, 38, 40, 42, 44, 45, 46, 48, 50, 52, 54, 55, 56, 58, 60, 62, 64, 65, 66, 68, 70, 72, 74, 75, 76, 78, 80, 82, 84, 85, 86, 88, 90, 92, 94, 95, 96, 98, 100]\n",
      "[2, 4, 5, 6, 8, 10, 12, 14, 15, 16, 18, 20, 22, 24, 25, 26, 28, 30, 32, 34, 35, 36, 38, 40, 42, 44, 45, 46, 48, 50, 52, 54, 55, 56, 58, 60, 62, 64, 65, 66, 68, 70, 72, 74, 75, 76, 78, 80, 82, 84, 85, 86, 88, 90, 92, 94, 95, 96, 98, 100]\n"
     ]
    }
   ],
   "source": [
    "#Using a for loop:\n",
    "# Create an empty list to store the cubes\n",
    "cubes_list = []\n",
    "\n",
    "# Loop through the numbers from 1 to 100\n",
    "for num in range(1, 101):\n",
    "    # Calculate the cube of the number\n",
    "    cube = num ** 3\n",
    "    # Check if the cube is divisible by 4 or 5\n",
    "    if cube % 4 == 0 or cube % 5 == 0:\n",
    "        # Append the number to the list\n",
    "        cubes_list.append(num)\n",
    "\n",
    "# Print the list of numbers\n",
    "print(cubes_list)\n",
    "#Using a while loop:\n",
    "\n",
    "# Create an empty list to store the cubes\n",
    "cubes_list = []\n",
    "\n",
    "# Start with the first number\n",
    "num = 1\n",
    "\n",
    "# Loop until we reach 100\n",
    "while num <= 100:\n",
    "    # Calculate the cube of the number\n",
    "    cube = num ** 3\n",
    "    # Check if the cube is divisible by 4 or 5\n",
    "    if cube % 4 == 0 or cube % 5 == 0:\n",
    "        # Append the number to the list\n",
    "        cubes_list.append(num)\n",
    "    # Increment the number\n",
    "    num += 1\n",
    "\n",
    "# Print the list of numbers\n",
    "print(cubes_list)\n",
    "\n"
   ]
  },
  {
   "cell_type": "code",
   "execution_count": 6,
   "id": "34889655-efe6-433d-bd5a-8780e408a345",
   "metadata": {},
   "outputs": [
    {
     "name": "stdout",
     "output_type": "stream",
     "text": [
      "Total no of Vowels :- 12\n",
      " no. of a = 4\n",
      " no. of e = 3\n",
      " no. of i = 3\n",
      " no. of o = 2\n",
      " no. of u = 0 \n"
     ]
    }
   ],
   "source": [
    "#### Problem 5\n",
    "s = 'I want to Become a Data Scientist'.lower()\n",
    "tp = (0,0,0,0,0)\n",
    "a,e,i,o,u = tp\n",
    "for z in s:\n",
    "    if z == 'a':\n",
    "        a+=1\n",
    "    elif z == 'e':\n",
    "        e+=1\n",
    "    elif z == 'i':\n",
    "        i+=1\n",
    "    elif z == 'o':\n",
    "        o+=1\n",
    "    elif z == 'u':\n",
    "        u+=1\n",
    "t = a+e+i+o+u\n",
    "print(f'Total no of Vowels :- {t}\\n no. of a = {a}\\n no. of e = {e}\\n no. of i = {i}\\n no. of o = {o}\\n no. of u = {u} ')"
   ]
  },
  {
   "cell_type": "code",
   "execution_count": 1,
   "id": "c28dd821-b32c-47d0-a233-acb129b4e39c",
   "metadata": {},
   "outputs": [
    {
     "name": "stdout",
     "output_type": "stream",
     "text": [
      "Total no of vowels :-12 \n",
      " no. of a = 4\n",
      " no. of e = 3\n",
      " no. of i = 3\n",
      " no. of o = 2\n",
      " no. of u = 0\n"
     ]
    }
   ],
   "source": [
    "## Alternate solution for Problem 5 using list comprehension \n",
    "s = 'I want to Become a Data Scientist'.lower()\n",
    "v = [c for c in s if c == 'a' or c == 'e' or c == 'i' or c == 'o' or c == 'u']\n",
    "a,e,i,o,u = v.count('a'),v.count('e'),v.count('i'),v.count('o'),v.count('u')\n",
    "print(f'Total no of vowels :-{len(v)} \\n no. of a = {a}\\n no. of e = {e}\\n no. of i = {i}\\n no. of o = {o}\\n no. of u = {u}')"
   ]
  },
  {
   "cell_type": "code",
   "execution_count": null,
   "id": "6d3beaeb-da7b-476b-bd99-76db6c0174d1",
   "metadata": {},
   "outputs": [],
   "source": []
  }
 ],
 "metadata": {
  "kernelspec": {
   "display_name": "Python 3 (ipykernel)",
   "language": "python",
   "name": "python3"
  },
  "language_info": {
   "codemirror_mode": {
    "name": "ipython",
    "version": 3
   },
   "file_extension": ".py",
   "mimetype": "text/x-python",
   "name": "python",
   "nbconvert_exporter": "python",
   "pygments_lexer": "ipython3",
   "version": "3.10.8"
  }
 },
 "nbformat": 4,
 "nbformat_minor": 5
}
