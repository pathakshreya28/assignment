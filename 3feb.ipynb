{
 "cells": [
  {
   "cell_type": "code",
   "execution_count": 1,
   "id": "2fd43759-7f38-4a5d-977f-f98f11579c5b",
   "metadata": {},
   "outputs": [],
   "source": [
    "###Data Science Assignment 3rd Feb 2023"
   ]
  },
  {
   "cell_type": "code",
   "execution_count": 5,
   "id": "5fdfe670-87d4-4503-907d-e8bbafb8ec0e",
   "metadata": {},
   "outputs": [],
   "source": [
    "def get_odd_numbers():\n",
    "    # Create an empty list to store the odd numbers\n",
    "    odd_numbers = []\n",
    "    # Loop through the range of 1 to 25\n",
    "    for num in range(1, 26):\n",
    "        # Check if the number is odd\n",
    "        if num % 2 != 0:\n",
    "            # Append the number to the list of odd numbers\n",
    "            odd_numbers.append(num)\n",
    "    # Return the list of odd numbers\n",
    "    return odd_numbers\n"
   ]
  },
  {
   "cell_type": "code",
   "execution_count": 6,
   "id": "5949fa00-7072-4fe5-9238-e4dd0b4e12df",
   "metadata": {},
   "outputs": [
    {
     "name": "stdout",
     "output_type": "stream",
     "text": [
      "[1, 3, 5, 7, 9, 11, 13, 15, 17, 19, 21, 23, 25]\n"
     ]
    }
   ],
   "source": [
    "odd_numbers_list = get_odd_numbers()\n",
    "print(odd_numbers_list)\n"
   ]
  },
  {
   "cell_type": "code",
   "execution_count": 8,
   "id": "13d38a12-f184-4dcd-8712-04ebda695a16",
   "metadata": {},
   "outputs": [],
   "source": [
    "#'*args' and '**kwargs' are used in some functions to allow them to accept an arbitrary number of arguments and/or keyword arguments, respectively.\n",
    "#This makes the functions more flexible and can be particularly useful when you don't know ahead of time how many arguments or keyword arguments will be passed to the function.\n"
   ]
  },
  {
   "cell_type": "code",
   "execution_count": 9,
   "id": "7b1fddad-bb4e-475a-a7a0-a29150fc9939",
   "metadata": {},
   "outputs": [
    {
     "name": "stdout",
     "output_type": "stream",
     "text": [
      "1\n",
      "2\n",
      "3\n",
      "hello\n",
      "world\n",
      "!\n"
     ]
    }
   ],
   "source": [
    "def print_args(*args):\n",
    "    for arg in args:\n",
    "        print(arg)\n",
    "\n",
    "print_args(1, 2, 3)\n",
    "print_args('hello', 'world', '!')\n"
   ]
  },
  {
   "cell_type": "code",
   "execution_count": 10,
   "id": "9b843e56-a693-4bc3-9c37-f4ad5625c956",
   "metadata": {},
   "outputs": [
    {
     "name": "stdout",
     "output_type": "stream",
     "text": [
      "name John\n",
      "age 30\n",
      "city New York\n",
      "country USA\n",
      "population 8500000\n"
     ]
    }
   ],
   "source": [
    "def print_kwargs(**kwargs):\n",
    "    for key, value in kwargs.items():\n",
    "        print(key, value)\n",
    "\n",
    "print_kwargs(name='John', age=30)\n",
    "print_kwargs(city='New York', country='USA', population=8_500_000)\n",
    "#In the first function print_args, you can see that any number of positional arguments can be passed and the function can handle them with the *args syntax."
   ]
  },
  {
   "cell_type": "code",
   "execution_count": 11,
   "id": "b6e67b3c-89e1-460d-b9c6-0573bc3544e0",
   "metadata": {},
   "outputs": [
    {
     "name": "stdout",
     "output_type": "stream",
     "text": [
      "2\n",
      "4\n",
      "6\n",
      "8\n",
      "10\n"
     ]
    }
   ],
   "source": [
    "###Problem 3 \n",
    "\"\"\"\n",
    "- An iterator is an object that contains a countable number of values or we can say it is object \n",
    "than can be iterated upon.\n",
    "- An Iterator object can be initialised using iter() method . \n",
    "- note:- only an iterable object can be initialised as an Iterator object \n",
    "- next() method is used for iteration \n",
    "\"\"\"\n",
    "\n",
    "l1 =[2, 4, 6, 8, 10, 12, 14,16, 18, 20]\n",
    "l2 , i= iter(l1),0\n",
    "while i<5:\n",
    "    print(next(l2)) \n",
    "    i+=1"
   ]
  },
  {
   "cell_type": "code",
   "execution_count": 12,
   "id": "f09f8d8a-d0db-4c9a-8b74-77b6196c768a",
   "metadata": {},
   "outputs": [],
   "source": [
    "#### Problem 4\n",
    "\"\"\"\n",
    "-a generator is a function that returns an iterator that produces a sequence of values when iterated over. \n",
    "-it is useful for saving memory when using a large dataset\n",
    "-yield keyword is used to create a generator function and return a generator object\n",
    "function in example below for creating a generator object of  fibonacci numbers.\n",
    "\"\"\"\n",
    "def fib():\n",
    "    a,b = 0,1\n",
    "    while True:\n",
    "        yield a\n",
    "        a,b = b,a+b \n",
    "## now this object can be itera\n"
   ]
  },
  {
   "cell_type": "code",
   "execution_count": 14,
   "id": "0384dce0-a3a7-497e-85b1-83b087d83454",
   "metadata": {},
   "outputs": [
    {
     "name": "stdout",
     "output_type": "stream",
     "text": [
      "2\n",
      "3\n",
      "5\n",
      "7\n",
      "11\n",
      "13\n",
      "17\n",
      "19\n",
      "23\n",
      "29\n",
      "31\n",
      "37\n",
      "41\n",
      "43\n",
      "47\n",
      "53\n",
      "59\n",
      "61\n",
      "67\n",
      "71\n"
     ]
    }
   ],
   "source": [
    "#### Problem 5 \n",
    "def prime():\n",
    "    for n in range(1,1000):\n",
    "        a = 0\n",
    "        for d in range(1,n):\n",
    "            if n%d == 0:\n",
    "                a+=1\n",
    "        if a == 1:\n",
    "            yield n\n",
    "\n",
    "#prinitng first 20 prime numbers in the generator object using while loop\n",
    "i , o = 0,prime()        \n",
    "while i<20:\n",
    "    print(next(o))\n",
    "    i+=1   "
   ]
  },
  {
   "cell_type": "code",
   "execution_count": 15,
   "id": "6f7260a7-87de-489b-8b1a-c9eeaf32ed0f",
   "metadata": {},
   "outputs": [
    {
     "name": "stdout",
     "output_type": "stream",
     "text": [
      "0\n",
      "1\n",
      "1\n",
      "2\n",
      "3\n",
      "5\n",
      "8\n",
      "13\n",
      "21\n",
      "34\n"
     ]
    }
   ],
   "source": [
    "#### Problem 6 - First 10 fibonacci numbers using while loop\n",
    "def fib():\n",
    "    a,b= 0,1\n",
    "    while True:\n",
    "        yield a\n",
    "        a,b = b,a+b\n",
    "i,o = 0,fib()\n",
    "while i<10:\n",
    "    print(next(o))\n",
    "    i+=1  "
   ]
  },
  {
   "cell_type": "code",
   "execution_count": 16,
   "id": "aac4c5f2-afbd-421a-a6c1-7e15a49a9b21",
   "metadata": {},
   "outputs": [
    {
     "name": "stdout",
     "output_type": "stream",
     "text": [
      "['p', 'w', 's', 'k', 'i', 'l', 'l', 's']\n"
     ]
    }
   ],
   "source": [
    "#### Problem 7 \n",
    "s = 'pwskills'\n",
    "si = iter(s)\n",
    "lc = [a for a in si]\n",
    "print(lc)"
   ]
  },
  {
   "cell_type": "code",
   "execution_count": null,
   "id": "e2077ffa-078e-493e-8202-a40342ae51b0",
   "metadata": {},
   "outputs": [],
   "source": [
    "#### Problem 8\n",
    "s = input('Enter the number :- ').strip()\n",
    "if s == s[::-1]:\n",
    "    print('Number is Palindrome')\n",
    "else:\n",
    "    print('Number not Palindrome')"
   ]
  },
  {
   "cell_type": "code",
   "execution_count": null,
   "id": "d44ef28e-73a0-49c8-b93e-b4dcdd89a070",
   "metadata": {},
   "outputs": [],
   "source": [
    "#### Porblem 9\n",
    "l1 = [a for a in range(1,101)]\n",
    "l2 = [b for b in l1 if b%2 != 0]\n",
    "print(l2)"
   ]
  },
  {
   "cell_type": "code",
   "execution_count": null,
   "id": "ceabc9a1-b68d-426c-a1d7-fc01f1367c9d",
   "metadata": {},
   "outputs": [],
   "source": []
  }
 ],
 "metadata": {
  "kernelspec": {
   "display_name": "Python 3 (ipykernel)",
   "language": "python",
   "name": "python3"
  },
  "language_info": {
   "codemirror_mode": {
    "name": "ipython",
    "version": 3
   },
   "file_extension": ".py",
   "mimetype": "text/x-python",
   "name": "python",
   "nbconvert_exporter": "python",
   "pygments_lexer": "ipython3",
   "version": "3.10.8"
  }
 },
 "nbformat": 4,
 "nbformat_minor": 5
}
