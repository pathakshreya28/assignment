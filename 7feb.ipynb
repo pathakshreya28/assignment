{
 "cells": [
  {
   "cell_type": "code",
   "execution_count": null,
   "id": "78edaf1a-8180-417b-a958-e7fe4c708cb3",
   "metadata": {},
   "outputs": [],
   "source": [
    "#### Problem 1 \n",
    "def password():\n",
    "    u,d,l,sp = 0,0,0,0\n",
    "    p = input('Enter your password :-')\n",
    "    for a in p:\n",
    "        if a.isupper() == True:\n",
    "            u+=1\n",
    "        elif a.islower() == True :\n",
    "            l+=1\n",
    "        if a.isdigit() == True:\n",
    "            d+=1\n",
    "        elif a.isalnum() == False:\n",
    "            sp+= 1\n",
    "    if u>=2 and l>=2 and d>=1 and sp>=3 and len(p) == 10:\n",
    "        return 'Valid Password'\n",
    "    else:\n",
    "        return 'Invalid Password' \n",
    "#### Execution\n",
    "password()"
   ]
  },
  {
   "cell_type": "code",
   "execution_count": null,
   "id": "8fe017f0-e64d-44d5-a73a-e27821da6159",
   "metadata": {},
   "outputs": [],
   "source": [
    "#### Problem 2\n",
    "### Creating functions for all \n",
    "#1 Check if the string starts with a particular letter :-\n",
    "char = lambda s,c : s[0] == c\n",
    "#2 Check if the string is numeric\n",
    "num = lambda s : s.isnumeric()\n",
    "#3 Sort a list of tuples having fruit names and their quantity.\n",
    "sort = lambda t:sorted(t,key = lambda x:x[1])\n",
    "#4 Find the squares of numbers from 1 to 10\n",
    "sq = [i**2 for i in range(1,11)]\n",
    "#5 Find the cube root of numbers from 1 to 10\n",
    "cbr = [i**(1/3) for i in range(1,11)]\n",
    "#6 Check if a given number is even\n",
    "even = lambda x:x%2 == 0\n",
    "#7 Filter odd numbers from the given list.\n",
    "l1 = [1,2,3,4,5,6,7,8,9,10]\n",
    "fodd = list(filter(lambda y:y%2 != 0 ,l1))\n",
    "#8 Sort a list of integers into positive and negative integers lists.\n",
    "l2 = [1,2,3,4,5,6,-1,-2,-3,-4,-5,0]\n",
    "positive = [z for z in l2 if z>0]\n",
    "negative = [w for w in l2 if w<0]"
   ]
  },
  {
   "cell_type": "code",
   "execution_count": null,
   "id": "0c0902eb-368b-4d55-83d9-fc6d179b8080",
   "metadata": {},
   "outputs": [],
   "source": [
    "st = 'abcdbn123'\n",
    "# execution of #1\n",
    "print(char(st,'a'))\n",
    "# execution of #2\n",
    "print(num(st))\n",
    "# execution of #3\n",
    "a = [(\"mango\",99),(\"orange\",80), (\"grapes\", 1000)]\n",
    "print(sort(a))\n",
    "# execution of #4\n",
    "print(sq)\n",
    "# execution of #5\n",
    "print(cbr)\n",
    "# execution of #6\n",
    "print(even(10))\n",
    "# execution of #7\n",
    "print(fodd)\n",
    "# executon of #8\n",
    "print(positive)\n",
    "print(negative)"
   ]
  },
  {
   "cell_type": "code",
   "execution_count": null,
   "id": "861ccdb6-8b61-450c-9c92-27faf9bf6cf1",
   "metadata": {},
   "outputs": [],
   "source": []
  }
 ],
 "metadata": {
  "kernelspec": {
   "display_name": "Python 3 (ipykernel)",
   "language": "python",
   "name": "python3"
  },
  "language_info": {
   "codemirror_mode": {
    "name": "ipython",
    "version": 3
   },
   "file_extension": ".py",
   "mimetype": "text/x-python",
   "name": "python",
   "nbconvert_exporter": "python",
   "pygments_lexer": "ipython3",
   "version": "3.10.8"
  }
 },
 "nbformat": 4,
 "nbformat_minor": 5
}
