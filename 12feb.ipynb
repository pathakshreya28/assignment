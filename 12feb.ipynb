{
 "cells": [
  {
   "cell_type": "code",
   "execution_count": 1,
   "id": "8d189715-2659-4de3-9c2e-5b45a13a2e47",
   "metadata": {},
   "outputs": [],
   "source": [
    "#### Topic - Exception Handeling assignment 1 \n",
    "### initiallising \n",
    "import logging \n",
    "logging.basicConfig(filename = 'exphdasg.log' ,level= logging.DEBUG , format = '%(asctime)s %(name)s %(levelname)s  %(message)s')"
   ]
  },
  {
   "cell_type": "code",
   "execution_count": 2,
   "id": "b0615043-63a3-4574-ac7b-efc95f0c0f53",
   "metadata": {},
   "outputs": [],
   "source": [
    "## Q1. What is an Exception in python ? Write the difference between Exceptions and syntax errors\n",
    "\n",
    "\"\"\"\n",
    "Syntax error :- It is raised due to the wrong syntax in the code. It leads to the termination of the program.\n",
    "Exceptions :- Exceptions are raised when the program is syntactically correct, but the code results in an error. \n",
    "\n",
    "\"\"\"\n",
    "logging.info('Problem 1 done successfully')"
   ]
  },
  {
   "cell_type": "code",
   "execution_count": 3,
   "id": "64e0a99e-360e-45ec-84fa-f504a001d54e",
   "metadata": {},
   "outputs": [
    {
     "ename": "FileNotFoundError",
     "evalue": "[Errno 2] No such file or directory: 'exception.txt'",
     "output_type": "error",
     "traceback": [
      "\u001b[0;31m---------------------------------------------------------------------------\u001b[0m",
      "\u001b[0;31mFileNotFoundError\u001b[0m                         Traceback (most recent call last)",
      "Cell \u001b[0;32mIn[3], line 7\u001b[0m\n\u001b[1;32m      3\u001b[0m \u001b[38;5;124;03m\"\"\"\u001b[39;00m\n\u001b[1;32m      4\u001b[0m \u001b[38;5;124;03mwhen an exception is not handeled , it terminates he program.\u001b[39;00m\n\u001b[1;32m      5\u001b[0m \u001b[38;5;124;03m\"\"\"\u001b[39;00m\n\u001b[1;32m      6\u001b[0m \u001b[38;5;66;03m## example :- \u001b[39;00m\n\u001b[0;32m----> 7\u001b[0m \u001b[38;5;28;01mwith\u001b[39;00m \u001b[38;5;28;43mopen\u001b[39;49m\u001b[43m(\u001b[49m\u001b[38;5;124;43m'\u001b[39;49m\u001b[38;5;124;43mexception.txt\u001b[39;49m\u001b[38;5;124;43m'\u001b[39;49m\u001b[43m,\u001b[49m\u001b[38;5;124;43m'\u001b[39;49m\u001b[38;5;124;43mr\u001b[39;49m\u001b[38;5;124;43m'\u001b[39;49m\u001b[43m)\u001b[49m \u001b[38;5;28;01mas\u001b[39;00m f:\n\u001b[1;32m      8\u001b[0m     data \u001b[38;5;241m=\u001b[39m f\u001b[38;5;241m.\u001b[39mread()\n\u001b[1;32m      9\u001b[0m \u001b[38;5;28mprint\u001b[39m(\u001b[38;5;241m4\u001b[39m\u001b[38;5;241m+\u001b[39m\u001b[38;5;241m5\u001b[39m)  \u001b[38;5;66;03m## This will not be executed \u001b[39;00m\n",
      "File \u001b[0;32m/opt/conda/lib/python3.10/site-packages/IPython/core/interactiveshell.py:282\u001b[0m, in \u001b[0;36m_modified_open\u001b[0;34m(file, *args, **kwargs)\u001b[0m\n\u001b[1;32m    275\u001b[0m \u001b[38;5;28;01mif\u001b[39;00m file \u001b[38;5;129;01min\u001b[39;00m {\u001b[38;5;241m0\u001b[39m, \u001b[38;5;241m1\u001b[39m, \u001b[38;5;241m2\u001b[39m}:\n\u001b[1;32m    276\u001b[0m     \u001b[38;5;28;01mraise\u001b[39;00m \u001b[38;5;167;01mValueError\u001b[39;00m(\n\u001b[1;32m    277\u001b[0m         \u001b[38;5;124mf\u001b[39m\u001b[38;5;124m\"\u001b[39m\u001b[38;5;124mIPython won\u001b[39m\u001b[38;5;124m'\u001b[39m\u001b[38;5;124mt let you open fd=\u001b[39m\u001b[38;5;132;01m{\u001b[39;00mfile\u001b[38;5;132;01m}\u001b[39;00m\u001b[38;5;124m by default \u001b[39m\u001b[38;5;124m\"\u001b[39m\n\u001b[1;32m    278\u001b[0m         \u001b[38;5;124m\"\u001b[39m\u001b[38;5;124mas it is likely to crash IPython. If you know what you are doing, \u001b[39m\u001b[38;5;124m\"\u001b[39m\n\u001b[1;32m    279\u001b[0m         \u001b[38;5;124m\"\u001b[39m\u001b[38;5;124myou can use builtins\u001b[39m\u001b[38;5;124m'\u001b[39m\u001b[38;5;124m open.\u001b[39m\u001b[38;5;124m\"\u001b[39m\n\u001b[1;32m    280\u001b[0m     )\n\u001b[0;32m--> 282\u001b[0m \u001b[38;5;28;01mreturn\u001b[39;00m \u001b[43mio_open\u001b[49m\u001b[43m(\u001b[49m\u001b[43mfile\u001b[49m\u001b[43m,\u001b[49m\u001b[43m \u001b[49m\u001b[38;5;241;43m*\u001b[39;49m\u001b[43margs\u001b[49m\u001b[43m,\u001b[49m\u001b[43m \u001b[49m\u001b[38;5;241;43m*\u001b[39;49m\u001b[38;5;241;43m*\u001b[39;49m\u001b[43mkwargs\u001b[49m\u001b[43m)\u001b[49m\n",
      "\u001b[0;31mFileNotFoundError\u001b[0m: [Errno 2] No such file or directory: 'exception.txt'"
     ]
    }
   ],
   "source": [
    "## Q2. What happens when an exception is not handeled ? Explain it with an example \n",
    "logging.info('Problem 2 started')\n",
    "\"\"\"\n",
    "when an exception is not handeled , it terminates he program.\n",
    "\"\"\"\n",
    "## example :- \n",
    "with open('exception.txt','r') as f:\n",
    "    data = f.read()\n",
    "print(4+5)  ## This will not be executed "
   ]
  },
  {
   "cell_type": "code",
   "execution_count": 4,
   "id": "8b7a915d-c8fd-4235-a5be-96fab8eb1328",
   "metadata": {},
   "outputs": [],
   "source": [
    "## Q3- which python statements are used to catch and handle exceptions ? explain with an example \n",
    "logging.info('Problem 3 started')\n",
    "\"\"\" try statement is used to catch an exception and except statemtn is used to handle it in python \"\"\"\n",
    "try :\n",
    "      with open('exception.txt','r') as f:\n",
    "            data = f.read()\n",
    "      print(4+5) #This will be executed now \n",
    "### above block will catch the exception\n",
    "except Exception as e :##catching the xception and storing it in variabe e\n",
    "    logging.error(e)"
   ]
  },
  {
   "cell_type": "code",
   "execution_count": 5,
   "id": "4b2581f7-2303-406f-8362-60dbda568196",
   "metadata": {},
   "outputs": [],
   "source": [
    "## Q4 - explain with an example : 1) Try and else 2) finally 3) raise \n",
    "logging.info('Problem 4 started')\n",
    "## example of try & else \n",
    "try:\n",
    "    with open('exception.txt','w') as f:\n",
    "        f.write('This is a txt file of exception handeling')\n",
    "except Exception as e:\n",
    "    print(e)\n",
    "else: ## else is executed if no exception is raised and handeled\n",
    "    logging.info('No exception Raised , Problem 4.1 executed successfully')"
   ]
  },
  {
   "cell_type": "code",
   "execution_count": 6,
   "id": "a5c39f1f-ee52-49d1-b183-50936cc0e59a",
   "metadata": {},
   "outputs": [],
   "source": [
    "### example of finally \n",
    "try:\n",
    "    with open('exception1.txt','r') as f:\n",
    "         data = f.read()\n",
    "except Exception as e :\n",
    "    logging.error(e)\n",
    "else:\n",
    "    logging.info('No exception raised') ## this will not be executed as exception will be raised and handled\n",
    "finally:\n",
    "    logging.info('4.2 done') # finally block is executed always , no matter exception is raised or not"
   ]
  },
  {
   "cell_type": "code",
   "execution_count": null,
   "id": "f84c0483-058d-4ef6-ac55-97c44c248a88",
   "metadata": {},
   "outputs": [],
   "source": [
    "### example of raise  - program for raising an error if phone number is not of 10 digits \n",
    "class validno(Exception): ## creating a class for handeling custom exception and inheriting Exception class\n",
    "    def __init__(self,msg):\n",
    "        self.msg = msg\n",
    "def validnum(num): ## Creating a function for validating entered mobile number\n",
    "    if len(num) > 10:\n",
    "        raise validno('Phone number could not be of more than 10 digtis') ## raise keyword will raise an error \n",
    "    if len(num) < 10:\n",
    "        raise validno('Phone number could not be of less than 10 digits') ## this will also raise an error\n",
    "try:  ## catching the exception\n",
    "    number = input('Enter number').strip()\n",
    "    validnum(number)\n",
    "except validno as e: ## handeling the exception\n",
    "    print(e)\n",
    "else:\n",
    "    logging.info('No error raised')\n",
    "finally:\n",
    "    logging.info('4.3 done')"
   ]
  },
  {
   "cell_type": "code",
   "execution_count": null,
   "id": "c26fb061-a421-4d04-af58-de84f90f5394",
   "metadata": {},
   "outputs": [],
   "source": [
    "## Q5 - What are custom exceptions in python ? Why do we need custom exceptions ? explain with an example \n",
    "\"\"\"custom exceptions are those which are made by the programmer for the need of program , \n",
    "exp:- if we want to validate age entered by the user i.e if we want check age is between 0 and 200 years or not .\n",
    "Python in general didn't have any defined exception for this , so we have to create custom exceptions for cases like this\"\"\"\n",
    "logging.info('Problem 5 completed')"
   ]
  },
  {
   "cell_type": "code",
   "execution_count": null,
   "id": "4c9559e2-065d-4259-8257-5a5bea346056",
   "metadata": {},
   "outputs": [],
   "source": [
    "## Q6 - create a custom exception class . use this class to handle an exception.\n",
    "logging.info('Problem 5 started')\n",
    "class validateage(Exception):\n",
    "     def __init__(self,msg):\n",
    "        self.msg = msg\n",
    "def validage(age):\n",
    "    if age < 0 :\n",
    "        raise validateage('Entered age is negative')\n",
    "    elif age > 200:\n",
    "        raise validateage('entered age is very very high')\n",
    "    else:\n",
    "        print('age is valid')\n",
    "try:\n",
    "    age = int(input('enter your age'))\n",
    "    validage(age)\n",
    "except validateage as e: \n",
    "    print(e)"
   ]
  },
  {
   "cell_type": "code",
   "execution_count": null,
   "id": "163f1514-7f00-4752-977d-fe4082cea0b6",
   "metadata": {},
   "outputs": [],
   "source": []
  }
 ],
 "metadata": {
  "kernelspec": {
   "display_name": "Python 3 (ipykernel)",
   "language": "python",
   "name": "python3"
  },
  "language_info": {
   "codemirror_mode": {
    "name": "ipython",
    "version": 3
   },
   "file_extension": ".py",
   "mimetype": "text/x-python",
   "name": "python",
   "nbconvert_exporter": "python",
   "pygments_lexer": "ipython3",
   "version": "3.10.8"
  }
 },
 "nbformat": 4,
 "nbformat_minor": 5
}
