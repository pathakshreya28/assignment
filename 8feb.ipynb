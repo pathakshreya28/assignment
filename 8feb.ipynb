{
 "cells": [
  {
   "cell_type": "code",
   "execution_count": 1,
   "id": "9ca7fd1d-c2a8-45e9-a964-dd2338bed671",
   "metadata": {},
   "outputs": [],
   "source": [
    "### Topic - Object Oriented  Programming Part 2 - Abstraction & Encapsulation \n"
   ]
  },
  {
   "cell_type": "code",
   "execution_count": 2,
   "id": "303b03b6-ee1a-42cd-ab5f-4d21a38a1c08",
   "metadata": {},
   "outputs": [
    {
     "name": "stdout",
     "output_type": "stream",
     "text": [
      "Mileage is 30 km/l\n",
      "Mileage is 15 km/l\n",
      "colour is grey\n",
      "Color is black\n"
     ]
    }
   ],
   "source": [
    "# Q1. What is Abstraction in OOps? Explain with an example.\n",
    "\"\"\"\n",
    "- An abstract class can be considered as a blueprint for other classes. \n",
    "- It allows you to create a set of methods that must be created within any child classes built \n",
    "  from the abstract class. \n",
    "- Abstraction in python is defined as a process of handling complexity by hiding unnecessary \n",
    "  information from the user.\n",
    "- simply , abstract class implements abstraction for hiding complexity \n",
    "example given below \n",
    "\"\"\"\n",
    "import abc\n",
    "class car:     ### Creating a Abstract Base class for car details\n",
    "    @abc.abstractmethod\n",
    "    def mileage(self):\n",
    "        pass\n",
    "    @abc.abstractmethod\n",
    "    def colour(self):\n",
    "        pass\n",
    "    \n",
    "class baleno(car):\n",
    "    def mileage(self):\n",
    "        print('Mileage is 30 km/l')\n",
    "    def colour(self):\n",
    "        print('colour is grey')\n",
    "        \n",
    "class scorpio(car):\n",
    "    def mileage(self):\n",
    "        print('Mileage is 15 km/l')\n",
    "    def colour(self):\n",
    "        print('Color is black')\n",
    "        \n",
    "my_car = baleno()\n",
    "his_car = scorpio()\n",
    "my_car.mileage()\n",
    "his_car.mileage()\n",
    "my_car.colour()\n",
    "his_car.colour()"
   ]
  },
  {
   "cell_type": "code",
   "execution_count": 3,
   "id": "7eda91f9-c6a6-4de1-9eb8-8956ffb27e94",
   "metadata": {},
   "outputs": [
    {
     "name": "stdout",
     "output_type": "stream",
     "text": [
      "45\n",
      "I have 3 sides\n",
      "I have 4 sides\n",
      "I have 5 sides\n",
      "I have 6 sides\n"
     ]
    }
   ],
   "source": [
    "# Q2. Differentiate between Abstraction and Encapsulation. Explain with an example.\n",
    "\"\"\"\n",
    "- Abstraction is a design level process and it is used to reduce the complexity at the designing stage of a project.\n",
    "- Encapsulation is an implementation level process, and it is used to provide privacy and maintain control over \n",
    "  the transparency of data at the implementation stage of a project.\n",
    "- Abstraction is hiding the details and implementation of the code.\n",
    "- Encapsulation is hiding the data and controlling the visibility of the code.\n",
    "\"\"\"\n",
    "#example of Encapsulation\n",
    "class car:\n",
    "    def __init__(self,year,make,model,speed):\n",
    "        self.__year = year\n",
    "        self.__make = make\n",
    "        self.__model = model\n",
    "        self.__speed = 0\n",
    "    def setspeed(self,speed):\n",
    "        self.__speed = 0 if speed < 0 else speed\n",
    "    def getspeed(self):\n",
    "        print(self.__speed)\n",
    "mycar = car(2016,'Maruti Suzuki','Baleno',95)\n",
    "\"\"\" car.__speed  #can't access or edit speed variable by calling it as it is encapsuled\n",
    "but we set its value and gets its value using the functions we have created\"\"\"\n",
    "mycar.setspeed(45)\n",
    "mycar.getspeed()\n",
    "# example of abstraction (abstract class)\n",
    "\n",
    "from abc import ABC, abstractmethod\n",
    " \n",
    "class Polygon(ABC):\n",
    " \n",
    "    @abstractmethod\n",
    "    def noofsides(self):\n",
    "        pass\n",
    " \n",
    "class Triangle(Polygon):\n",
    " \n",
    "    # overriding abstract method\n",
    "    def noofsides(self):\n",
    "        print(\"I have 3 sides\")\n",
    " \n",
    "class Pentagon(Polygon):\n",
    " \n",
    "    # overriding abstract method\n",
    "    def noofsides(self):\n",
    "        print(\"I have 5 sides\")\n",
    " \n",
    "class Hexagon(Polygon):\n",
    " \n",
    "    # overriding abstract method\n",
    "    def noofsides(self):\n",
    "        print(\"I have 6 sides\")\n",
    " \n",
    "class Quadrilateral(Polygon):\n",
    " \n",
    "    # overriding abstract method\n",
    "    def noofsides(self):\n",
    "        print(\"I have 4 sides\")\n",
    " \n",
    "# Driver code\n",
    "R = Triangle()\n",
    "R.noofsides()\n",
    " \n",
    "K = Quadrilateral()\n",
    "K.noofsides()\n",
    " \n",
    "R = Pentagon()\n",
    "R.noofsides()\n",
    " \n",
    "K = Hexagon()\n",
    "K.noofsides()"
   ]
  },
  {
   "cell_type": "code",
   "execution_count": 4,
   "id": "7dcda425-5a2f-4c62-8c66-bff8af7c9106",
   "metadata": {},
   "outputs": [
    {
     "data": {
      "text/plain": [
       "'abc module offers the infrastructure for defining abstract base classes in python\\nit helps us to define a blueprint for other classes that have something in common'"
      ]
     },
     "execution_count": 4,
     "metadata": {},
     "output_type": "execute_result"
    }
   ],
   "source": [
    "# Q3. What is abc module in python? Why is it used?\n",
    "\"\"\"abc module offers the infrastructure for defining abstract base classes in python\n",
    "it helps us to define a blueprint for other classes that have something in common\"\"\""
   ]
  },
  {
   "cell_type": "code",
   "execution_count": 5,
   "id": "5b22862f-d529-41df-8d01-87ce8dd3b918",
   "metadata": {},
   "outputs": [
    {
     "data": {
      "text/plain": [
       "'Data Abstraction in Python can be achieved through creating abstract \\nclasses and inheriting them later. for creating abstract classes abc module is used'"
      ]
     },
     "execution_count": 5,
     "metadata": {},
     "output_type": "execute_result"
    }
   ],
   "source": [
    "# Q4. How can we achieve data abstraction?\n",
    "\"\"\"Data Abstraction in Python can be achieved through creating abstract \n",
    "classes and inheriting them later. for creating abstract classes abc module is used\"\"\""
   ]
  },
  {
   "cell_type": "code",
   "execution_count": 6,
   "id": "b67b9bfc-2f42-435b-b4a3-8c11f14f5d39",
   "metadata": {},
   "outputs": [
    {
     "name": "stdout",
     "output_type": "stream",
     "text": [
      "I can walk and run\n",
      "I can crawl\n"
     ]
    }
   ],
   "source": [
    "# Q5. Can we create an instance of an abstract class? Explain your answer.\n",
    "\"\"\"\n",
    "No , we can't create instance of abstract classes because it is not complete \n",
    "but it can be subclassed\n",
    "\"\"\"\n",
    "# example \n",
    "from abc import ABC, abstractmethod\n",
    "class Animal(ABC):\n",
    " \n",
    "    def move(self):\n",
    "        pass\n",
    " \n",
    "class Human(Animal):\n",
    " \n",
    "    def move(self):\n",
    "        print(\"I can walk and run\")\n",
    " \n",
    "class Snake(Animal):\n",
    " \n",
    "    def move(self):\n",
    "        print(\"I can crawl\")\n",
    "\n",
    "R = Human()\n",
    "R.move()\n",
    " \n",
    "K = Snake()\n",
    "K.move()"
   ]
  },
  {
   "cell_type": "code",
   "execution_count": null,
   "id": "950be1ea-8195-4982-8e24-417e57043de8",
   "metadata": {},
   "outputs": [],
   "source": []
  }
 ],
 "metadata": {
  "kernelspec": {
   "display_name": "Python 3 (ipykernel)",
   "language": "python",
   "name": "python3"
  },
  "language_info": {
   "codemirror_mode": {
    "name": "ipython",
    "version": 3
   },
   "file_extension": ".py",
   "mimetype": "text/x-python",
   "name": "python",
   "nbconvert_exporter": "python",
   "pygments_lexer": "ipython3",
   "version": "3.10.8"
  }
 },
 "nbformat": 4,
 "nbformat_minor": 5
}
