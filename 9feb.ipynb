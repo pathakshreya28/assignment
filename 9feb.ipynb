{
 "cells": [
  {
   "cell_type": "code",
   "execution_count": 1,
   "id": "849c01bc-42b3-4f2c-aa70-d9e01e12a0e3",
   "metadata": {},
   "outputs": [],
   "source": [
    "##### Topic - OOPs Task"
   ]
  },
  {
   "cell_type": "code",
   "execution_count": 2,
   "id": "6f8604a4-e578-4dd9-bb84-e906ad1f5c39",
   "metadata": {},
   "outputs": [],
   "source": [
    "## Porblem 1 - Create a vehicle class with an init method having instance variables as name_of_vehicle, max_speed and average_of_vehicle.\n",
    "class vehicle:\n",
    "    def __init__(self,name_of_vehicle,max_speed,average_of_vehicle):\n",
    "        self.name_of_vehicle = name_of_vehicle\n",
    "        self.max_speed = max_speed\n",
    "        self.average_of_vehicle = average_of_vehicle"
   ]
  },
  {
   "cell_type": "code",
   "execution_count": 3,
   "id": "00752dc4-3627-4425-a332-de61e7abdc41",
   "metadata": {},
   "outputs": [],
   "source": [
    "\"\"\" Problem 2 - Create a child class car from the vehicle class created in Que 1, which will inherit the vehicle class.\n",
    "                Create a method named seating_capacity which takes capacity as an argument and returns the name of\n",
    "                the vehicle and its seating capacity.\"\"\"\n",
    "\n",
    "class car(vehicle):\n",
    "    def seating_capacity(self,capacity):\n",
    "        return self.name_of_vehicle, capacity"
   ]
  },
  {
   "cell_type": "code",
   "execution_count": 4,
   "id": "dc5f0d9c-4f4b-4e02-9711-46b0b28dae5d",
   "metadata": {},
   "outputs": [
    {
     "data": {
      "text/plain": [
       "('Baleno', 5)"
      ]
     },
     "execution_count": 4,
     "metadata": {},
     "output_type": "execute_result"
    }
   ],
   "source": [
    "#execution of problem 2\n",
    "mycar = car('Baleno',100,25)\n",
    "mycar.seating_capacity(5)"
   ]
  },
  {
   "cell_type": "code",
   "execution_count": 5,
   "id": "dcbaadf2-2981-4d4c-a9b2-bc9a66870158",
   "metadata": {},
   "outputs": [
    {
     "name": "stdout",
     "output_type": "stream",
     "text": [
      "Father genes\n",
      "Mother genes\n"
     ]
    }
   ],
   "source": [
    "## problem 3 -  What is multiple inheritance? Write a python code to demonstrate multiple inheritance.\n",
    "\"\"\" Multiple Inheritence :- inheriting from multiple classes to one. \"\"\"\n",
    "class p1:\n",
    "    def f1(self):\n",
    "        return'Father genes'\n",
    "class p2:\n",
    "    def f2(self):\n",
    "        return'Mother genes'\n",
    "class child(p1,p2):\n",
    "    pass\n",
    "obj1 = child()\n",
    "print(obj1.f1())\n",
    "print(obj1.f2())  ### here class chuild can inherit properties of both classes p1 and p2"
   ]
  },
  {
   "cell_type": "code",
   "execution_count": 6,
   "id": "7aee1313-7bfc-48c7-b43e-7a64a4668aeb",
   "metadata": {},
   "outputs": [],
   "source": [
    "### problem 4 - What are getter and setter in python? Create a class and create a getter and a setter method in this class\n",
    "\"\"\"\n",
    "A getter - to access the value of the attribute.\n",
    "A setter - to set the value of the attribute.\n",
    "# They are mostly used in the cases when the attribute is set private and when we dont't want the user to make unnecessary \n",
    "- getter is used accces the value of that private atribute. If we see , we can also do that without getter method but then we have to call the function() to access it \n",
    "but with getter we can use the name of the function as a variable \n",
    "- setter is used change the value of that private atribute. here we can apply the conditions so that the user is not able to give any inappropriate value to the attribute.\n",
    "  If we see , we can also do that without setter method but then we have to call the function() to access it \n",
    "  but with getter we can use the name of the function as a variable.\n",
    "\"\"\"\n",
    "## Example of a Banking Software \n",
    "class open_bank_account:\n",
    "    def __init__(self,name):\n",
    "        self.__balance = 0 ## A private variable of\n",
    "        self.name = name\n",
    "        print('account apened successfuly, Current Balce = Rs 0')\n",
    "    @property   ### Getter Method\n",
    "    def balance(self):\n",
    "        print( 'Rs', self.__balance)\n",
    "    @balance.setter   ### Setter method  \n",
    "    def deposit(self,amount):\n",
    "        if amount <= 100:\n",
    "            print('Error - Min. value for deposit should be Rs 100')\n",
    "        else:\n",
    "            self.__balance += amount\n",
    "            print(f'Rs {amount} deposited successfully in your bank account ')\n",
    "    @balance.setter\n",
    "    def withdraw(self,amount):\n",
    "        if amount > self.__balance:\n",
    "            print('Error - Not enough Balance in your account')\n",
    "        else:\n",
    "            self.__balance -= amount\n",
    "            print(f'Rs {amount} withdrawn succesfully')"
   ]
  },
  {
   "cell_type": "code",
   "execution_count": 7,
   "id": "b0de21f3-7575-4b78-b0d9-d766a066553f",
   "metadata": {},
   "outputs": [
    {
     "name": "stdout",
     "output_type": "stream",
     "text": [
      "account apened successfuly, Current Balce = Rs 0\n"
     ]
    }
   ],
   "source": [
    "### Execution \n",
    "myacc = open_bank_account('Naveen Gupta')"
   ]
  },
  {
   "cell_type": "code",
   "execution_count": 8,
   "id": "d229a3dd-e412-4f58-b628-1dd4372e5145",
   "metadata": {},
   "outputs": [
    {
     "name": "stdout",
     "output_type": "stream",
     "text": [
      "Rs 10000 deposited successfully in your bank account \n"
     ]
    }
   ],
   "source": [
    "myacc.deposit = 10000\n"
   ]
  },
  {
   "cell_type": "code",
   "execution_count": 9,
   "id": "db6f4340-822e-40e5-b947-a337598c552d",
   "metadata": {},
   "outputs": [
    {
     "name": "stdout",
     "output_type": "stream",
     "text": [
      "Rs 10000\n"
     ]
    }
   ],
   "source": [
    "myacc.balance"
   ]
  },
  {
   "cell_type": "code",
   "execution_count": 10,
   "id": "82ade339-f0f0-4347-bcd3-b1e9908260b5",
   "metadata": {},
   "outputs": [
    {
     "name": "stdout",
     "output_type": "stream",
     "text": [
      "Rs 5000 withdrawn succesfully\n"
     ]
    }
   ],
   "source": [
    "myacc.withdraw = 5000"
   ]
  },
  {
   "cell_type": "code",
   "execution_count": 11,
   "id": "42d0aa8d-20a5-46fb-a66d-bdbd035c9e0e",
   "metadata": {},
   "outputs": [
    {
     "name": "stdout",
     "output_type": "stream",
     "text": [
      "Rs 5000\n"
     ]
    }
   ],
   "source": [
    "myacc.balance"
   ]
  },
  {
   "cell_type": "code",
   "execution_count": 12,
   "id": "4f5ab5f5-50c9-4053-938e-5c225c6a24f9",
   "metadata": {},
   "outputs": [
    {
     "name": "stdout",
     "output_type": "stream",
     "text": [
      "Inside Parent\n",
      "Inside Child\n"
     ]
    }
   ],
   "source": [
    "#### Problem 5 - What is method overriding in python? Write a python code to demonstrate method overriding.\n",
    "\"\"\"\n",
    "- Method overriding is an ability of any object-oriented programming language that allows a subclass or child class to provide a specific implementation of a \n",
    "  method that is already provided by one of its super-classes or parent classes. When a method in a subclass has the same name, same parameters or signature and \n",
    "  same return type(or sub-type) as a method in its super-class, then the method in the subclass is said to override the method in the super-class.\n",
    "\"\"\"\n",
    "## example \n",
    "# Defining parent class\n",
    "class Parent():\n",
    "      \n",
    "    # Constructor\n",
    "    def __init__(self):\n",
    "        self.value = \"Inside Parent\"\n",
    "          \n",
    "    # Parent's show method\n",
    "    def show(self):\n",
    "        print(self.value)\n",
    "          \n",
    "# Defining child class\n",
    "class Child(Parent):\n",
    "      \n",
    "    # Constructor\n",
    "    def __init__(self):\n",
    "        self.value = \"Inside Child\"\n",
    "          \n",
    "    # Child's show method\n",
    "    def show(self):\n",
    "        print(self.value)\n",
    "          \n",
    "          \n",
    "# Driver's code\n",
    "obj1 = Parent()\n",
    "obj2 = Child()\n",
    "  \n",
    "obj1.show()\n",
    "obj2.show()"
   ]
  },
  {
   "cell_type": "code",
   "execution_count": null,
   "id": "07c11317-96ae-40f7-8e48-7bb0f558f078",
   "metadata": {},
   "outputs": [],
   "source": []
  }
 ],
 "metadata": {
  "kernelspec": {
   "display_name": "Python 3 (ipykernel)",
   "language": "python",
   "name": "python3"
  },
  "language_info": {
   "codemirror_mode": {
    "name": "ipython",
    "version": 3
   },
   "file_extension": ".py",
   "mimetype": "text/x-python",
   "name": "python",
   "nbconvert_exporter": "python",
   "pygments_lexer": "ipython3",
   "version": "3.10.8"
  }
 },
 "nbformat": 4,
 "nbformat_minor": 5
}
