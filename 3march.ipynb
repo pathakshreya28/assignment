{
 "cells": [
  {
   "cell_type": "code",
   "execution_count": null,
   "id": "7a3f2e16-5152-4521-9c4f-6c013c533a56",
   "metadata": {},
   "outputs": [],
   "source": [
    "Que 1: Name any five plots that we can plot using the Seaborn library. Also, state the uses of each plot.\n",
    "Ans-\n",
    "     Seaborn is a Python visualization library based on Matplotlib that provides a high-level interface for creating informative and attractive statistical graphics. Here are five plots that we can plot using the Seaborn library, along with their uses:\n",
    "        \n",
    "        1.Scatter plot - A scatter plot is a graph in which the values of two variables are plotted along two axes, allowing us to see if there is any relationship between them. It is useful for identifying patterns, trends, and outliers in data.\n",
    "        \n",
    "        2.Line plot - A line plot is a graph that displays information as a series of data points connected by straight line segments. It is useful for visualizing trends in data over time or to show the relationship between two variables.\n",
    "        \n",
    "        3.Bar plot - A bar plot is a graph that uses rectangular bars to represent data. It is useful for comparing values across categories and identifying the highest or lowest values in a dataset.\n",
    "        \n",
    "        4.Histogram - A histogram is a graph that shows the distribution of a dataset. It is useful for identifying the shape of the data, including whether it is skewed, symmetrical, or bimodal.\n",
    "        \n",
    "        5.Heatmap - A heatmap is a graphical representation of data in which values are represented as colors. It is useful for visualizing relationships between variables and i"
   ]
  },
  {
   "cell_type": "code",
   "execution_count": null,
   "id": "b8959817-a903-40ce-878f-ec570995290c",
   "metadata": {},
   "outputs": [],
   "source": [
    "Que 2: Load the \"fmri\" dataset using the load_dataset function of seaborn. Plot a line plot using x =\n",
    "\"timepoint\" and y = \"signal\" for different events and regions.\n",
    "Note: timepoint, signal, event, and region are columns in the fmri dataset.\n",
    "\n",
    "Ans-\n",
    "    Here is the code to load the \"fmri\" dataset using the load_dataset function of Seaborn and plot a line plot using x = \"timepoint\" and y = \"signal\" for different events and regions:\n",
    "        \n",
    "import seaborn as sns\n",
    "\n",
    "# Load the fmri dataset\n",
    "fmri_data = sns.load_dataset(\"fmri\")\n",
    "\n",
    "# Plot the line plot using seaborn\n",
    "sns.lineplot(x=\"timepoint\", y=\"signal\", hue=\"event\", style=\"region\", data=fmri_data)\n",
    "\n",
    "In this code, we first load the \"fmri\" dataset using the load_dataset function of Seaborn and store it in the fmri_data variable. Then, we use the sns.lineplot() function to plo"
   ]
  },
  {
   "cell_type": "code",
   "execution_count": null,
   "id": "905415cc-62f5-4b36-937b-56b0ea274785",
   "metadata": {},
   "outputs": [],
   "source": [
    "Que 3: Load the \"titanic\" dataset using the load_dataset function of seaborn. Plot two box plots using x =\n",
    "'pclass', y = 'age' and y = 'fare'.\n",
    "Note: pclass, age, and fare are columns in the titanic dataset.\n",
    "\n",
    "Ans-\n",
    "    Here is the code to load the \"titanic\" dataset using the load_dataset function of Seaborn and plot two box plots using x = 'pclass', y = 'age' and y = 'fare':import seaborn as sns\n",
    "\n",
    "import seaborn as sns    \n",
    "# Load the titanic dataset\n",
    "titanic_data = sns.load_dataset(\"titanic\")\n",
    "\n",
    "# Plot the box plots using seaborn\n",
    "sns.boxplot(x=\"pclass\", y=\"age\", data=titanic_data)\n",
    "sns.boxplot(x=\"pclass\", y=\"fare\", data=titanic_data)\n",
    "\n",
    "In this code, we first load the \"titanic\" dataset using the load_dataset function of Seaborn and store it in the titanic_data variable. Then, we use the sns.boxplot() func"
   ]
  },
  {
   "cell_type": "code",
   "execution_count": null,
   "id": "a2e6f0a5-e663-44ce-9796-ec58a7581d3f",
   "metadata": {},
   "outputs": [],
   "source": [
    "Que 4: Use the \"diamonds\" dataset from seaborn to plot a histogram for the 'price' column. Use the hue\n",
    "parameter for the 'cut' column of the diamonds dataset.\n",
    "Ans-\n",
    "    Here is the code to load the \"diamonds\" dataset using the load_dataset function of Seaborn and plot a histogram for the 'price' column, using the hue parameter for the 'cut' column of the diamonds dataset:\n",
    "        \n",
    "import seaborn as sns\n",
    "\n",
    "# Load the diamonds dataset\n",
    "diamonds_data = sns.load_dataset(\"diamonds\")\n",
    "\n",
    "# Plot the histogram using seaborn\n",
    "sns.histplot(data=diamonds_data, x=\"price\", hue=\"cut\")\n",
    "\n",
    "In this code, we first load the \"diamonds\" dataset using the load_dataset function of Seaborn and store it in the diamonds_data variable. Then, we use the sns.histplot() functio"
   ]
  },
  {
   "cell_type": "code",
   "execution_count": null,
   "id": "16221dd3-4c89-4120-a8c1-efa8777e9e5c",
   "metadata": {},
   "outputs": [],
   "source": [
    "Que 5:Use the \"iris\" dataset from seaborn to plot a pair plot. Use the hue parameter for the \"species\" column\n",
    "of the iris dataset.\n",
    "Ans-\n",
    "     Here is the code to load the \"iris\" dataset using the load_dataset function of Seaborn and plot a pair plot, using the hue parameter for the \"species\" column of the iris dataset:\n",
    "import seaborn as sns\n",
    "\n",
    "# Load the iris dataset\n",
    "iris_data = sns.load_dataset(\"iris\")\n",
    "\n",
    "# Plot the pair plot using seaborn\n",
    "sns.pairplot(data=iris_data, hue=\"species\")\n",
    "\n",
    "In this code, we first load the \"iris\" dataset using the load_dataset function of Seaborn and store it in the iris_data variable. Then, we use the sns.pairplot() function to plot"
   ]
  },
  {
   "cell_type": "code",
   "execution_count": null,
   "id": "ce32142c-c2d2-40b4-b2a2-15a4878c2e71",
   "metadata": {},
   "outputs": [],
   "source": [
    "Que 6: Use the \"flights\" dataset from seaborn to plot a heatmap.\n",
    "\n",
    "Ans-\n",
    "    Here is the code to load the \"flights\" dataset using the load_dataset function of Seaborn and plot a heatmap:\n",
    "\n",
    "import seaborn as sns\n",
    "\n",
    "# Load the flights dataset\n",
    "flights_data = sns.load_dataset(\"flights\")\n",
    "\n",
    "# Pivot the data to get it in the right format for the heatmap\n",
    "flights_data = flights_data.pivot(\"month\", \"year\", \"passengers\")\n",
    "\n",
    "# Plot the heatmap using seaborn\n",
    "sns.heatmap(flights_data, cmap=\"YlGnBu\")\n",
    "\n",
    "In this code, we first load the \"flights\" dataset using the load_dataset function of Seaborn and store it in the flights_data variable. Then, we use the pivot() function to pivo"
   ]
  }
 ],
 "metadata": {
  "kernelspec": {
   "display_name": "Python 3 (ipykernel)",
   "language": "python",
   "name": "python3"
  },
  "language_info": {
   "codemirror_mode": {
    "name": "ipython",
    "version": 3
   },
   "file_extension": ".py",
   "mimetype": "text/x-python",
   "name": "python",
   "nbconvert_exporter": "python",
   "pygments_lexer": "ipython3",
   "version": "3.10.8"
  }
 },
 "nbformat": 4,
 "nbformat_minor": 5
}
