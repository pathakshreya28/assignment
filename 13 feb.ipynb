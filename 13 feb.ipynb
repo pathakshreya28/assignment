{
 "cells": [
  {
   "cell_type": "code",
   "execution_count": 4,
   "id": "f6cfef1d-b918-4865-8f51-1fdcab3cfca6",
   "metadata": {},
   "outputs": [
    {
     "data": {
      "text/plain": [
       "'assignment:13 feb\\nException handling-2'"
      ]
     },
     "execution_count": 4,
     "metadata": {},
     "output_type": "execute_result"
    }
   ],
   "source": [
    "\"\"\"assignment:13 feb\n",
    "Exception handling-2\"\"\"\n"
   ]
  },
  {
   "cell_type": "code",
   "execution_count": 7,
   "id": "277771ca-9683-4c0e-9f0d-8d89865f94ee",
   "metadata": {},
   "outputs": [
    {
     "data": {
      "text/plain": [
       "'In Python, exceptions are a way to handle errors that occur during the execution of a program. When an error occurs, Python raises an exception, which can be caught and handled using an appropriate exception handling mechanism.\\n\\nWhen creating a custom exception in Python, it is recommended to inherit from the base class for all exceptions, which is the Exception class. By inheriting from the Exception class, our custom exception can inherit all the methods and attributes of the base class, such as __str__ and args, which are used to display the error message and any additional arguments passed to the exception, respectively.\\n\\nInheriting from the Exception class also ensures that our custom exception is compatible with the existing exception handling mechanisms in Python. For example, if we raise a custom exception that inherits from the Exception class, we can catch it using a generic except block or a specific except block that handles the Exception class.\\n\\nFurthermore, using the Exception class as the base class for our custom exception also ensures that our exception is compatible with any third-party libraries or frameworks that rely on the Exception class.'"
      ]
     },
     "execution_count": 7,
     "metadata": {},
     "output_type": "execute_result"
    }
   ],
   "source": [
    "#Question 1 \n",
    "\"\"\"In Python, exceptions are a way to handle errors that occur during the execution of a program. When an error occurs, Python raises an exception, which can be caught and handled using an appropriate exception handling mechanism.\n",
    "\n",
    "When creating a custom exception in Python, it is recommended to inherit from the base class for all exceptions, which is the Exception class. By inheriting from the Exception class, our custom exception can inherit all the methods and attributes of the base class, such as __str__ and args, which are used to display the error message and any additional arguments passed to the exception, respectively.\n",
    "\n",
    "Inheriting from the Exception class also ensures that our custom exception is compatible with the existing exception handling mechanisms in Python. For example, if we raise a custom exception that inherits from the Exception class, we can catch it using a generic except block or a specific except block that handles the Exception class.\n",
    "\n",
    "Furthermore, using the Exception class as the base class for our custom exception also ensures that our exception is compatible with any third-party libraries or frameworks that rely on the Exception class.\"\"\""
   ]
  },
  {
   "cell_type": "code",
   "execution_count": 9,
   "id": "4349857e-7b78-40f0-8c49-5aea3d8a6c68",
   "metadata": {},
   "outputs": [
    {
     "name": "stdout",
     "output_type": "stream",
     "text": [
      "BaseException\n",
      "object\n"
     ]
    }
   ],
   "source": [
    "#Question2\n",
    "# print the Python Exception Hierarchy:\n",
    "        # Iterate through the Exception hierarchy and print each exception class\n",
    "current_exception = BaseException\n",
    "while current_exception is not None:\n",
    "    print(current_exception.__name__)\n",
    "    current_exception = current_exception.__base__\n"
   ]
  },
  {
   "cell_type": "code",
   "execution_count": 11,
   "id": "895aa4a6-bf01-45ff-9fd2-c4dd87373517",
   "metadata": {},
   "outputs": [
    {
     "ename": "ZeroDivisionError",
     "evalue": "division by zero",
     "output_type": "error",
     "traceback": [
      "\u001b[0;31m---------------------------------------------------------------------------\u001b[0m",
      "\u001b[0;31mZeroDivisionError\u001b[0m                         Traceback (most recent call last)",
      "Cell \u001b[0;32mIn[11], line 7\u001b[0m\n\u001b[1;32m      1\u001b[0m \u001b[38;5;66;03m#ouestion3 \u001b[39;00m\n\u001b[1;32m      2\u001b[0m \u001b[38;5;124;03m\"\"\"The ArithmeticError class in Python is the base class for all errors that occur during arithmetic operations. This class itself inherits from the Exception class.\u001b[39;00m\n\u001b[1;32m      3\u001b[0m \n\u001b[1;32m      4\u001b[0m \u001b[38;5;124;03mSome of the errors that are defined in the ArithmeticError class are:\u001b[39;00m\n\u001b[1;32m      5\u001b[0m \n\u001b[1;32m      6\u001b[0m \u001b[38;5;124;03mZeroDivisionError: This error is raised when a number is divided by zero. For example:\"\"\"\u001b[39;00m\n\u001b[0;32m----> 7\u001b[0m x \u001b[38;5;241m=\u001b[39m \u001b[38;5;241;43m1\u001b[39;49m\u001b[43m \u001b[49m\u001b[38;5;241;43m/\u001b[39;49m\u001b[43m \u001b[49m\u001b[38;5;241;43m0\u001b[39;49m\n\u001b[1;32m      8\u001b[0m \u001b[38;5;124;03m\"\"\"OverflowError: This error is raised when the result of an arithmetic operation is too large to be represented in the available memory. For example:\"\"\"\u001b[39;00m\n\u001b[1;32m      9\u001b[0m x \u001b[38;5;241m=\u001b[39m \u001b[38;5;241m2\u001b[39m \u001b[38;5;241m*\u001b[39m\u001b[38;5;241m*\u001b[39m \u001b[38;5;241m100000000\u001b[39m\n",
      "\u001b[0;31mZeroDivisionError\u001b[0m: division by zero"
     ]
    }
   ],
   "source": [
    "#ouestion3 \n",
    "\"\"\"The ArithmeticError class in Python is the base class for all errors that occur during arithmetic operations. This class itself inherits from the Exception class.\n",
    "\n",
    "Some of the errors that are defined in the ArithmeticError class are:\n",
    "\n",
    "ZeroDivisionError: This error is raised when a number is divided by zero. For example:\"\"\"\n",
    "x = 1 / 0\n",
    "\"\"\"OverflowError: This error is raised when the result of an arithmetic operation is too large to be represented in the available memory. For example:\"\"\"\n",
    "x = 2 ** 100000000\n",
    "\"\"\"Here's an example program that demonstrates the use of ZeroDivisionError and OverflowError:\"\"\"\n",
    "try:\n",
    "    x = 1 / 0\n",
    "except ZeroDivisionError as e:\n",
    "    print(\"Caught ZeroDivisionError:\", e)\n",
    "\n",
    "try:\n",
    "    x = 2 ** 100000000\n",
    "except OverflowError as e:\n",
    "    print(\"Caught OverflowError:\", e)\n",
    "\n"
   ]
  },
  {
   "cell_type": "code",
   "execution_count": 12,
   "id": "2a87e814-0089-4763-af33-41406727e9c1",
   "metadata": {},
   "outputs": [
    {
     "name": "stdout",
     "output_type": "stream",
     "text": [
      "Caught ZeroDivisionError: division by zero\n"
     ]
    }
   ],
   "source": [
    "\"\"\"Here's an example program that demonstrates the use of ZeroDivisionError and OverflowError:\"\"\"\n",
    "try:\n",
    "    x = 1 / 0\n",
    "except ZeroDivisionError as e:\n",
    "    print(\"Caught ZeroDivisionError:\", e)\n",
    "\n",
    "try:\n",
    "    x = 2 ** 100000000\n",
    "except OverflowError as e:\n",
    "    print(\"Caught OverflowError:\", e)\n"
   ]
  },
  {
   "cell_type": "code",
   "execution_count": 13,
   "id": "3ec1b2da-1e54-485a-b48b-fb6d710e696a",
   "metadata": {},
   "outputs": [
    {
     "ename": "KeyError",
     "evalue": "'c'",
     "output_type": "error",
     "traceback": [
      "\u001b[0;31m---------------------------------------------------------------------------\u001b[0m",
      "\u001b[0;31mKeyError\u001b[0m                                  Traceback (most recent call last)",
      "Cell \u001b[0;32mIn[13], line 8\u001b[0m\n\u001b[1;32m      2\u001b[0m \u001b[38;5;124;03m\"\"\"In Python, the LookupError class is used as the base class for errors that occur when an index or key is not found in a sequence or mapping.\u001b[39;00m\n\u001b[1;32m      3\u001b[0m \n\u001b[1;32m      4\u001b[0m \u001b[38;5;124;03mTwo examples of errors that inherit from the LookupError class are KeyError and IndexError. Both of these errors are raised when an index or key is not found, but they are used in different contexts.\u001b[39;00m\n\u001b[1;32m      5\u001b[0m \n\u001b[1;32m      6\u001b[0m \u001b[38;5;124;03mKeyError is raised when a key is not found in a dictionary. For example:\"\"\"\u001b[39;00m\n\u001b[1;32m      7\u001b[0m d \u001b[38;5;241m=\u001b[39m {\u001b[38;5;124m'\u001b[39m\u001b[38;5;124ma\u001b[39m\u001b[38;5;124m'\u001b[39m: \u001b[38;5;241m1\u001b[39m, \u001b[38;5;124m'\u001b[39m\u001b[38;5;124mb\u001b[39m\u001b[38;5;124m'\u001b[39m: \u001b[38;5;241m2\u001b[39m}\n\u001b[0;32m----> 8\u001b[0m \u001b[38;5;28mprint\u001b[39m(\u001b[43md\u001b[49m\u001b[43m[\u001b[49m\u001b[38;5;124;43m'\u001b[39;49m\u001b[38;5;124;43mc\u001b[39;49m\u001b[38;5;124;43m'\u001b[39;49m\u001b[43m]\u001b[49m)\n\u001b[1;32m      9\u001b[0m \u001b[38;5;124;03m\"\"\"In the above program, we try to access the value associated with the key 'c' in the dictionary d, but since the key does not exist, a KeyError is raised.\u001b[39;00m\n\u001b[1;32m     10\u001b[0m \n\u001b[1;32m     11\u001b[0m \u001b[38;5;124;03mIndexError is raised when an index is out of range for a sequence, such as a list or a tuple. For example:\"\"\"\u001b[39;00m\n\u001b[1;32m     12\u001b[0m l \u001b[38;5;241m=\u001b[39m [\u001b[38;5;241m1\u001b[39m, \u001b[38;5;241m2\u001b[39m, \u001b[38;5;241m3\u001b[39m]\n",
      "\u001b[0;31mKeyError\u001b[0m: 'c'"
     ]
    }
   ],
   "source": [
    "#Question 4\n",
    "\"\"\"In Python, the LookupError class is used as the base class for errors that occur when an index or key is not found in a sequence or mapping.\n",
    "\n",
    "Two examples of errors that inherit from the LookupError class are KeyError and IndexError. Both of these errors are raised when an index or key is not found, but they are used in different contexts.\n",
    "\n",
    "KeyError is raised when a key is not found in a dictionary. For example:\"\"\"\n",
    "d = {'a': 1, 'b': 2}\n",
    "print(d['c'])\n",
    "\"\"\"In the above program, we try to access the value associated with the key 'c' in the dictionary d, but since the key does not exist, a KeyError is raised.\n",
    "\n",
    "IndexError is raised when an index is out of range for a sequence, such as a list or a tuple. For example:\"\"\"\n",
    "l = [1, 2, 3]\n",
    "print(l[3])\n"
   ]
  },
  {
   "cell_type": "code",
   "execution_count": 14,
   "id": "ae4f69f2-3e5d-4836-a33b-b923d041ad0e",
   "metadata": {},
   "outputs": [
    {
     "ename": "ModuleNotFoundError",
     "evalue": "No module named 'my_module'",
     "output_type": "error",
     "traceback": [
      "\u001b[0;31m---------------------------------------------------------------------------\u001b[0m",
      "\u001b[0;31mModuleNotFoundError\u001b[0m                       Traceback (most recent call last)",
      "Cell \u001b[0;32mIn[14], line 7\u001b[0m\n\u001b[1;32m      1\u001b[0m \u001b[38;5;66;03m#Question 5 \u001b[39;00m\n\u001b[1;32m      2\u001b[0m \u001b[38;5;124;03m\"\"\"In Python, ImportError is a built-in exception that is raised when a module or package cannot be imported.\u001b[39;00m\n\u001b[1;32m      3\u001b[0m \n\u001b[1;32m      4\u001b[0m \u001b[38;5;124;03mThis can happen for a variety of reasons, such as a missing or misspelled module name, or a failure to find the module in any of the locations specified in the Python path.\u001b[39;00m\n\u001b[1;32m      5\u001b[0m \n\u001b[1;32m      6\u001b[0m \u001b[38;5;124;03mFor example, consider the following program:\"\"\"\u001b[39;00m\n\u001b[0;32m----> 7\u001b[0m \u001b[38;5;28;01mimport\u001b[39;00m \u001b[38;5;21;01mmy_module\u001b[39;00m\n\u001b[1;32m      8\u001b[0m \u001b[38;5;124;03m\"\"\"If my_module does not exist or cannot be found in the Python path, an ImportError will be raised.\u001b[39;00m\n\u001b[1;32m      9\u001b[0m \n\u001b[1;32m     10\u001b[0m \u001b[38;5;124;03mStarting from Python 3.6, a new exception class called ModuleNotFoundError is introduced as a subclass of ImportError to handle situations where the requested module is not found.\u001b[39;00m\n\u001b[1;32m     11\u001b[0m \n\u001b[1;32m     12\u001b[0m \u001b[38;5;124;03mFor example, consider the following program:\"\"\"\u001b[39;00m\n\u001b[1;32m     13\u001b[0m \u001b[38;5;28;01mimport\u001b[39;00m \u001b[38;5;21;01mnonexistent_module\u001b[39;00m\n",
      "\u001b[0;31mModuleNotFoundError\u001b[0m: No module named 'my_module'"
     ]
    }
   ],
   "source": [
    "#Question 5 \n",
    "\"\"\"In Python, ImportError is a built-in exception that is raised when a module or package cannot be imported.\n",
    "\n",
    "This can happen for a variety of reasons, such as a missing or misspelled module name, or a failure to find the module in any of the locations specified in the Python path.\n",
    "\n",
    "For example, consider the following program:\"\"\"\n",
    "import my_module\n",
    "\"\"\"If my_module does not exist or cannot be found in the Python path, an ImportError will be raised.\n",
    "\n",
    "Starting from Python 3.6, a new exception class called ModuleNotFoundError is introduced as a subclass of ImportError to handle situations where the requested module is not found.\n",
    "\n",
    "For example, consider the following program:\"\"\"\n",
    "import nonexistent_module\n",
    "\"\"\"The ModuleNotFoundError exception provides more detailed information about the module that could not be found, such as its name and the path where it was expected to be found.\"\"\""
   ]
  },
  {
   "cell_type": "code",
   "execution_count": 15,
   "id": "939e8b54-07cf-4157-b94e-d71f8367664b",
   "metadata": {},
   "outputs": [
    {
     "data": {
      "text/plain": [
       "'Use specific exception types: Instead of catching the generic Exception class, use specific exception types to handle different types of errors. This makes it easier to identify and debug the root cause of the error.\\n\\nKeep try blocks small: Put only the code that might raise an exception in the try block. This makes it easier to identify the section of code that is causing the error and also helps to keep the code readable.\\n\\nUse finally block: Use the finally block to release any resources that were acquired in the try block, such as file handles or network connections. This ensures that resources are properly cleaned up regardless of whether an exception was raised or not.\\n\\nUse context managers: Use context managers, such as the with statement, to automatically handle resource allocation and deallocation, such as opening and closing files.\\n\\nLog exceptions: Use logging to record exceptions and their context. This helps to diagnose and debug errors.\\n\\nReraise exceptions: If an exception cannot be handled at the current level, reraise it to the next higher level using the raise statement. This ensures that the exception is handled at the appropriate level.\\n\\nHandle exceptions as close to the source as possible: Handle exceptions at the point where they occur or as close to the source as possible. This helps to keep the code modular and avoids unintended side effects.\\n\\nIn summary, following these best practices for exception handling can help to make Python code more reliable, maintainable, and easier to debug.'"
      ]
     },
     "execution_count": 15,
     "metadata": {},
     "output_type": "execute_result"
    }
   ],
   "source": [
    "\"\"\"Use specific exception types: Instead of catching the generic Exception class, use specific exception types to handle different types of errors. This makes it easier to identify and debug the root cause of the error.\n",
    "\n",
    "Keep try blocks small: Put only the code that might raise an exception in the try block. This makes it easier to identify the section of code that is causing the error and also helps to keep the code readable.\n",
    "\n",
    "Use finally block: Use the finally block to release any resources that were acquired in the try block, such as file handles or network connections. This ensures that resources are properly cleaned up regardless of whether an exception was raised or not.\n",
    "\n",
    "Use context managers: Use context managers, such as the with statement, to automatically handle resource allocation and deallocation, such as opening and closing files.\n",
    "\n",
    "Log exceptions: Use logging to record exceptions and their context. This helps to diagnose and debug errors.\n",
    "\n",
    "Reraise exceptions: If an exception cannot be handled at the current level, reraise it to the next higher level using the raise statement. This ensures that the exception is handled at the appropriate level.\n",
    "\n",
    "Handle exceptions as close to the source as possible: Handle exceptions at the point where they occur or as close to the source as possible. This helps to keep the code modular and avoids unintended side effects.\n",
    "\n",
    "In summary, following these best practices for exception handling can help to make Python code more reliable, maintainable, and easier to debug.\"\"\""
   ]
  },
  {
   "cell_type": "code",
   "execution_count": null,
   "id": "b1a18a29-f998-46e8-8f4b-c382af263ca5",
   "metadata": {},
   "outputs": [],
   "source": []
  }
 ],
 "metadata": {
  "kernelspec": {
   "display_name": "Python 3 (ipykernel)",
   "language": "python",
   "name": "python3"
  },
  "language_info": {
   "codemirror_mode": {
    "name": "ipython",
    "version": 3
   },
   "file_extension": ".py",
   "mimetype": "text/x-python",
   "name": "python",
   "nbconvert_exporter": "python",
   "pygments_lexer": "ipython3",
   "version": "3.10.8"
  }
 },
 "nbformat": 4,
 "nbformat_minor": 5
}
