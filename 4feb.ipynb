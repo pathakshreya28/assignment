{
 "cells": [
  {
   "cell_type": "code",
   "execution_count": 1,
   "id": "6bf47d9a-041b-456b-b751-a2959de2f055",
   "metadata": {},
   "outputs": [
    {
     "name": "stdout",
     "output_type": "stream",
     "text": [
      "[('Virat Kohli', 24936), ('Jack Kallis', 25534), ('Ricky Ponting', 27483), ('Sachin Tendulkar', 34357)]\n"
     ]
    }
   ],
   "source": [
    "#### Problem 1 - to sort the tuples in the list according to the number in it \n",
    "l = [('Sachin Tendulkar', 34357), ('Ricky Ponting', 27483), ('Jack Kallis', 25534), ('Virat Kohli', 24936)]\n",
    "a = sorted(l,key = lambda x:x[1])\n",
    "print(a)"
   ]
  },
  {
   "cell_type": "code",
   "execution_count": 2,
   "id": "82f69ba0-4e3e-4dfb-9110-321aa8e5981a",
   "metadata": {},
   "outputs": [
    {
     "name": "stdout",
     "output_type": "stream",
     "text": [
      "[1, 4, 9, 16, 25, 36, 49, 64, 81, 100]\n"
     ]
    }
   ],
   "source": [
    "#### Problem 2 -  to return the squares of the numbers in the list using lambda and map functions \n",
    "l = [1,2,3,4,5,6,7,8,9,10]\n",
    "output = list(map(lambda x:x**2,l))\n",
    "print(output)\n"
   ]
  },
  {
   "cell_type": "code",
   "execution_count": 3,
   "id": "77a537f8-6b3e-468d-96f2-f20a3e371213",
   "metadata": {},
   "outputs": [
    {
     "name": "stdout",
     "output_type": "stream",
     "text": [
      "('1', '2', '3', '4', '5', '6', '7', '8', '9', '10')\n"
     ]
    }
   ],
   "source": [
    "#### Problem 3 -  to return a tuple with data type string instead of int in the given list\n",
    "l = [1,2,3,4,5,6,7,8,9,10]\n",
    "result = tuple(map(lambda x:str(x),l))\n",
    "print(result)"
   ]
  },
  {
   "cell_type": "code",
   "execution_count": 4,
   "id": "087b95c6-225a-4384-8cf7-82964355df07",
   "metadata": {},
   "outputs": [
    {
     "name": "stdout",
     "output_type": "stream",
     "text": [
      "15511210043330985984000000\n"
     ]
    }
   ],
   "source": [
    "#### Problem 4 - to return the products of numbers from 1 to 25\n",
    "from functools import reduce\n",
    "l1 = list(range(1,26))\n",
    "o = reduce(lambda x,y:x*y,l1)\n",
    "print(o)"
   ]
  },
  {
   "cell_type": "code",
   "execution_count": 5,
   "id": "00181715-e643-4279-aa81-f36fb4c61135",
   "metadata": {},
   "outputs": [
    {
     "name": "stdout",
     "output_type": "stream",
     "text": [
      "[6, 60, 90, 120]\n"
     ]
    }
   ],
   "source": [
    "#### Problem 5 -  To Filter numbers which are divisible by 2 and 3\n",
    "l2 = [2,3,6,9,27,60,90,120,55,46]\n",
    "res = list(filter(lambda x:x%2==0 and x%3 ==0,l2))\n",
    "print(res)"
   ]
  },
  {
   "cell_type": "code",
   "execution_count": 6,
   "id": "03feeb04-3710-4a52-92d0-c1579212ece4",
   "metadata": {},
   "outputs": [
    {
     "name": "stdout",
     "output_type": "stream",
     "text": [
      "['php', 'aba', 'radar', 'level']\n"
     ]
    }
   ],
   "source": [
    "#### Problem 6 - to find palindromes in the given list of strings using lambda and filter function.\n",
    "l3 = ['python','php','aba','radar','level']\n",
    "result = list(filter(lambda x:x == x[::-1],l3))\n",
    "print(result)"
   ]
  },
  {
   "cell_type": "code",
   "execution_count": null,
   "id": "371eaa3f-b55f-4f87-b820-18ff98ea8ba5",
   "metadata": {},
   "outputs": [],
   "source": []
  }
 ],
 "metadata": {
  "kernelspec": {
   "display_name": "Python 3 (ipykernel)",
   "language": "python",
   "name": "python3"
  },
  "language_info": {
   "codemirror_mode": {
    "name": "ipython",
    "version": 3
   },
   "file_extension": ".py",
   "mimetype": "text/x-python",
   "name": "python",
   "nbconvert_exporter": "python",
   "pygments_lexer": "ipython3",
   "version": "3.10.8"
  }
 },
 "nbformat": 4,
 "nbformat_minor": 5
}
