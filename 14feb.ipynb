{
 "cells": [
  {
   "cell_type": "code",
   "execution_count": 2,
   "id": "258da2f1-cbc4-4990-a1eb-2196d5a0bedf",
   "metadata": {},
   "outputs": [
    {
     "ename": "IndentationError",
     "evalue": "unindent does not match any outer indentation level (<tokenize>, line 4)",
     "output_type": "error",
     "traceback": [
      "\u001b[0;36m  File \u001b[0;32m<tokenize>:4\u001b[0;36m\u001b[0m\n\u001b[0;31m    In other words, multithreading allows a program to do several things at once, which can be useful for tasks that can be parallelized, such as network communication or data processing.\u001b[0m\n\u001b[0m    ^\u001b[0m\n\u001b[0;31mIndentationError\u001b[0m\u001b[0;31m:\u001b[0m unindent does not match any outer indentation level\n"
     ]
    }
   ],
   "source": [
    "1.  what is multithreading in python? why is it used? Name the module used to handle threads in python\n",
    "ans:-\n",
    "      Multithreading in Python refers to the ability of a program to execute multiple threads (or independent flows of execution) simultaneously within the same process.\n",
    "    In other words, multithreading allows a program to do several things at once, which can be useful for tasks that can be parallelized, such as network communication or data processing.\n",
    "Multithreading is used in Python to improve the performance of applications that can benefit from parallel processing, as it enables programs to execute multiple tasks concurrently. \n",
    "By using multithreading, it is possible to reduce the time needed to complete a task and to make a program more responsive to user input.\n",
    "\n",
    "1.The threading module is used to handle threads in Python. \n",
    "2.It provides a way to create and manage threads, allowing developers to write concurrent programs.\n",
    "3.The threading module allows multiple threads to share resources and to communicate with each other in a synchronized manner, which helps to avoid problems such as race conditions or deadlocks.\n",
    "\n",
    "\n",
    "\n",
    "\n",
    "     "
   ]
  },
  {
   "cell_type": "code",
   "execution_count": 3,
   "id": "6d101933-c177-43f0-beeb-593d3ab2dce8",
   "metadata": {},
   "outputs": [
    {
     "ename": "SyntaxError",
     "evalue": "invalid decimal literal (1659008576.py, line 1)",
     "output_type": "error",
     "traceback": [
      "\u001b[0;36m  Cell \u001b[0;32mIn[3], line 1\u001b[0;36m\u001b[0m\n\u001b[0;31m    2.Why threading module used? Write the use of the following functions:\u001b[0m\n\u001b[0m     ^\u001b[0m\n\u001b[0;31mSyntaxError\u001b[0m\u001b[0;31m:\u001b[0m invalid decimal literal\n"
     ]
    }
   ],
   "source": [
    "2.Why threading module used? Write the use of the following functions:\n",
    "    1.activeCount()\n",
    "    2.currentThread()\n",
    "    3.enumerate()\n",
    "    \n",
    "ans:- The threading module in Python is used for creating and managing threads in a program. It provides a simple and efficient way to write concurrent programs, enabling multiple threads to execute simultaneously within the same process.\n",
    "        1.activeCount()-This function returns the number of active thread objects in the current thread's thread control block.It can be useful for debugging purposes,or to ensure that all threads have completed before exiting a program.\n",
    "        2.currentThread()-This function returns a reference to the current thread object which can be useful for identifying the current thread's name,thread ID,or other attributes.\n",
    "        3.enumerate()-This function returns a list of all active thread objects in the current process.It can be used to get information about all the three"
   ]
  },
  {
   "cell_type": "code",
   "execution_count": 5,
   "id": "cacea7fe-37cf-4f95-adb8-22d6272cd22b",
   "metadata": {},
   "outputs": [
    {
     "ename": "IndentationError",
     "evalue": "unindent does not match any outer indentation level (<tokenize>, line 7)",
     "output_type": "error",
     "traceback": [
      "\u001b[0;36m  File \u001b[0;32m<tokenize>:7\u001b[0;36m\u001b[0m\n\u001b[0;31m    Ans-\u001b[0m\n\u001b[0m    ^\u001b[0m\n\u001b[0;31mIndentationError\u001b[0m\u001b[0;31m:\u001b[0m unindent does not match any outer indentation level\n"
     ]
    }
   ],
   "source": [
    "3.Explain the following functions:\n",
    "    1.run()\n",
    "    2.start()\n",
    "    3.join()\n",
    "    4.isAlive()\n",
    "    \n",
    " Ans- \n",
    "\n",
    "1.run()-This method is called when a thread is started using the 'start()'method.It contains this code that will be executed in the thread and can be overriden in a subclass to implement custom bahaviour.It is important to note that you should not call this method directly,but instead use the'start()'method to start the thread.\n",
    "\n",
    "2.start()-This method starts the executionof the thread.when this method is called,a new thread is crated and the'run()'method of the thread is executed in parallel with the main thread.It is important to note that you can only call the 'start()' method once on a thread object.\n",
    "\n",
    "3.join()-This method blocks the calling thread until the thread on which itis called has completed its execution.It can be used to synchronization the execution of multiple threasa in a program and to ensure that all threads have completed before the program teminates.The 'join(0' method can also accept an optional timeout parameter,which specifies the maximum amount of the time to wait for the thread to complete before continuing with the execution of the calling thread.\n",
    "\n",
    "4.isAlive()-This method returns a boolean value indicating whether the thread is currently executing or not.If the thread has not been started or has completed its exec   "
   ]
  },
  {
   "cell_type": "code",
   "execution_count": 13,
   "id": "91d85ce8-484c-40b2-ad10-d98b4761fa2d",
   "metadata": {},
   "outputs": [
    {
     "ename": "IndentationError",
     "evalue": "unindent does not match any outer indentation level (<tokenize>, line 6)",
     "output_type": "error",
     "traceback": [
      "\u001b[0;36m  File \u001b[0;32m<tokenize>:6\u001b[0;36m\u001b[0m\n\u001b[0;31m    def print_squares():\u001b[0m\n\u001b[0m    ^\u001b[0m\n\u001b[0;31mIndentationError\u001b[0m\u001b[0;31m:\u001b[0m unindent does not match any outer indentation level\n"
     ]
    }
   ],
   "source": [
    "4.Write a python program to create two threads.Threads one must print the list of squares and thread two must print the list of cubes.\n",
    "\n",
    "Ans-\n",
    "      import threading\n",
    "    \n",
    "    def print_squares():\n",
    "        for i in range(1, 6):\n",
    "            print(f\"Square of {i} is {i**2}\")\n",
    "            \n",
    "    def print_cubes():\n",
    "        for i in range(1, 6):\n",
    "            print(f\"Cube of {i} is {i**3}\")\n",
    "            \n",
    "    if __name__ == \"__main__\":\n",
    "        t1 = threading.Thread(target=print_squares)\n",
    "        t2 = threading.Thread(target=print_cubes)\n",
    "        \n",
    "        t1.start()\n",
    "        t2.start()\n",
    "        \n",
    "        t1.join()\n",
    "        t2.join()\n",
    "        \n",
    "        print(\"Done\")\n",
    "        output:\n",
    "    square of 1 is 1\n",
    "    cube of 1 is 1\n",
    "    square of 2 is 4\n",
    "    cube of 2 is 8\n",
    "    square of 3 is 9\n",
    "    cube of 3 is 27\n",
    "    square of 4 is 16\n",
    "    cube of 4 is 64\n",
    "    square of 5 is 25\n",
    "    cube of 5 is 125\n",
    "    Done\n"
   ]
  },
  {
   "cell_type": "code",
   "execution_count": 14,
   "id": "65f83dee-4451-4502-975a-b7831e8bd8be",
   "metadata": {},
   "outputs": [
    {
     "ename": "SyntaxError",
     "evalue": "invalid decimal literal (1881946470.py, line 1)",
     "output_type": "error",
     "traceback": [
      "\u001b[0;36m  Cell \u001b[0;32mIn[14], line 1\u001b[0;36m\u001b[0m\n\u001b[0;31m    5.State advantages and disadvantages of multithreading.\u001b[0m\n\u001b[0m     ^\u001b[0m\n\u001b[0;31mSyntaxError\u001b[0m\u001b[0;31m:\u001b[0m invalid decimal literal\n"
     ]
    }
   ],
   "source": [
    "5.State advantages and disadvantages of multithreading.\n",
    "Ans-\n",
    "    Multithrading is a powerful programming technique that allows a program to execute multiple threads of control con currently,within the same process.\n",
    "    \n",
    "    Advantages:\n",
    "        1.Improved performance\n",
    "        2.Responsiveness\n",
    "        3.Resource sharing\n",
    "        4.Modularity\n",
    "        \n",
    "        \n",
    "    Disadvantages:\n",
    "        1.Complexity\n",
    "        2.Synchronization\n",
    "        3.Increased memory usage\n",
    "        4.Overhead"
   ]
  },
  {
   "cell_type": "code",
   "execution_count": null,
   "id": "c66fe2f8-1ba9-4977-864f-d2f619ba4f77",
   "metadata": {},
   "outputs": [],
   "source": [
    "6.Explain deadlocks and race conditions\n",
    "\n",
    "Ans-\n",
    "    Deadlock: A deadlock occurs when two or more threads are waiting for each other to release a resources,such as a lock or a semaphore,that they need to continue execution.\n",
    "    In other words,each thread is blocked and waiting for a resource that another thread is holding, and the program becomes stuck in a state where no progress can be made.Deadlocks are serious problem in multithreaded programs and can be difficult to detect and resolve.\n",
    "    \n",
    "    Race condition:A race condition occurs when the behaviour of a program depends on the relatives timing and interleaving of events between two or more threads.\n",
    "    In other words,the outcome of the program can vary depending on the order in which the threads execute.This can lead to predictable or incorrect behaviour,such as data corruption or incorrect program results.Race conditions can occurs when multiple threads access and modify shared resources without proper synchronization or mutual exclusion,leading to data inconsistency and errors.\n",
    "    \n",
    "    To avoid deadlocks and race condtions in multithreaded programs,it is important to follow best practices such as proper synchronization and mutual exclusion,carefu"
   ]
  }
 ],
 "metadata": {
  "kernelspec": {
   "display_name": "Python 3 (ipykernel)",
   "language": "python",
   "name": "python3"
  },
  "language_info": {
   "codemirror_mode": {
    "name": "ipython",
    "version": 3
   },
   "file_extension": ".py",
   "mimetype": "text/x-python",
   "name": "python",
   "nbconvert_exporter": "python",
   "pygments_lexer": "ipython3",
   "version": "3.10.8"
  }
 },
 "nbformat": 4,
 "nbformat_minor": 5
}
