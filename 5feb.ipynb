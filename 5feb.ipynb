{
 "cells": [
  {
   "cell_type": "code",
   "execution_count": 7,
   "id": "371eaa3f-b55f-4f87-b820-18ff98ea8ba5",
   "metadata": {},
   "outputs": [],
   "source": [
    "### Topic - Object Orientied Programming Part 1\n",
    "## Student name - Himanshu shukla"
   ]
  },
  {
   "cell_type": "code",
   "execution_count": 8,
   "id": "997afa3a-8318-4fa2-a7e4-9b584397d241",
   "metadata": {},
   "outputs": [
    {
     "name": "stdout",
     "output_type": "stream",
     "text": [
      "14\n",
      "Rohan Singh\n",
      "10101\n",
      "('Rohan Singh', 10101, 14)\n"
     ]
    }
   ],
   "source": [
    "# Q1. Explain Class and Object with respect to Object-Oriented Programming. Give a suitable example.\n",
    "\"\"\"\n",
    "- Class is a Blue Print for Creating Objetcs\n",
    "- An Object is an instance of a Class.\n",
    "- An object of a given class can invoke the methods availaible to it without revealing the \n",
    "  implemnetation details to the user.\n",
    "example given below of a class for details of a student of a school.\n",
    "\"\"\"\n",
    "class student:\n",
    "    def  __init__(self,name,student_id,age):\n",
    "        self.name = name\n",
    "        self.student_id = student_id\n",
    "        self.age = age\n",
    "    def student_details(self):\n",
    "        return self.name , self.student_id, self.age\n",
    "rohan = student('Rohan Singh',10101,14)\n",
    "print(rohan.age)\n",
    "print(rohan.name)\n",
    "print(rohan.student_id)\n",
    "print(rohan.student_details())"
   ]
  },
  {
   "cell_type": "code",
   "execution_count": 9,
   "id": "b8c23b8b-31bb-4fbc-af5e-b7cb3454c2ca",
   "metadata": {},
   "outputs": [
    {
     "data": {
      "text/plain": [
       "'\\nFour Pillars of OOPs are :\\n    - Polymorphism \\n    - Encapsulation \\n    - Abstraction \\n    - Inheritance \\n'"
      ]
     },
     "execution_count": 9,
     "metadata": {},
     "output_type": "execute_result"
    }
   ],
   "source": [
    "# Q2. Name the four pillars of OOPs.\n",
    "\"\"\"\n",
    "Four Pillars of OOPs are :\n",
    "    - Polymorphism \n",
    "    - Encapsulation \n",
    "    - Abstraction \n",
    "    - Inheritance \n",
    "\"\"\"\n"
   ]
  },
  {
   "cell_type": "code",
   "execution_count": 10,
   "id": "1066b60a-86af-44bc-ada3-f3fd43086d1b",
   "metadata": {},
   "outputs": [
    {
     "name": "stdout",
     "output_type": "stream",
     "text": [
      "Grey\n",
      "Baleno\n",
      "Maruti Suzuki\n",
      "('Grey', 'Baleno', 'Maruti Suzuki')\n"
     ]
    }
   ],
   "source": [
    "#Q3 - Explain why the __init__() function is used. Give a suitable example.\n",
    "\"\"\"\n",
    "-  __init__() function refers to initialisation , is a special method of a class , it is run as soon an object \n",
    "or instance is created. it lets the class initialize the object's attributes and serves no other purpose.\n",
    "- It is also called 'constructor'\n",
    "example below of class taking data of a car\n",
    "\"\"\"\n",
    "class car:\n",
    "    def __init__(self,colour,model,company): #initialising the attributes\n",
    "        self.colour = colour\n",
    "        self.model = model\n",
    "        self.company  = company\n",
    "    def getdet(self):\n",
    "        return self.colour , self.model , self.company\n",
    "\n",
    "mycar = car('Grey','Baleno','Maruti Suzuki')\n",
    "print(mycar.colour)\n",
    "print(mycar.model)\n",
    "print(mycar.company)\n",
    "print(mycar.getdet())"
   ]
  },
  {
   "cell_type": "code",
   "execution_count": 11,
   "id": "8ba971d7-e314-4747-925a-f57fd46181a7",
   "metadata": {},
   "outputs": [
    {
     "data": {
      "text/plain": [
       "'\\n- self represents the instance of the class\\n- By using the “self” we can access the attributes and methods of the class in python. \\n'"
      ]
     },
     "execution_count": 11,
     "metadata": {},
     "output_type": "execute_result"
    }
   ],
   "source": [
    "# Q4 Why self is used in OOPs?\n",
    "\"\"\"\n",
    "- self represents the instance of the class\n",
    "- By using the “self” we can access the attributes and methods of the class in python. \n",
    "\"\"\""
   ]
  },
  {
   "cell_type": "code",
   "execution_count": 12,
   "id": "23c9b8b6-cbef-4017-8f22-d78dbcd13610",
   "metadata": {},
   "outputs": [
    {
     "name": "stdout",
     "output_type": "stream",
     "text": [
      "This is Naveen Gupta\n",
      "hello world\n",
      "Father genes\n",
      "Mother genes\n",
      "Father genes\n",
      "Father genes\n",
      "30\n"
     ]
    }
   ],
   "source": [
    "# Q5 What is inheritance? Give an example for each type of inheritance.\n",
    "\"\"\"\n",
    "- Inheritance: is the process of inheriting properties form parent class to child class.\n",
    "- Types of inheritance: \n",
    "                    - Multilevel Inheritence \n",
    "                    - Multiple Inheritence\n",
    "                    - Hierarchical Inheritance\n",
    "                    - Single inheritance\n",
    "\"\"\"\n",
    "\"\"\" Multilevel Inheritence :- inheriting multiple classes into one but one after another. \"\"\"\n",
    "class c1:\n",
    "    def testm(self):\n",
    "        return 'hello world'\n",
    "class c2(c1):\n",
    "    def t2(self):\n",
    "        return'This is Naveen Gupta'\n",
    "class c3(c2):\n",
    "    pass\n",
    "obj  = c3()\n",
    "print(obj.t2())\n",
    "print(obj.testm()) # here in object of class c3 we are able to access properties of class c1 & c2\n",
    "\n",
    "\"\"\" Multiple Inheritence :- inheriting from multiple classes to one. \"\"\"\n",
    "class p1:\n",
    "    def f1(self):\n",
    "        return'Father genes'\n",
    "class p2:\n",
    "    def f2(self):\n",
    "        return'Mother genes'\n",
    "class child(p1,p2):\n",
    "    pass\n",
    "obj1 = child()\n",
    "print(obj1.f1())\n",
    "print(obj1.f2())  ### here class chuild can inherit properties of both classes p1 and p2\n",
    "\"\"\" Hierarchical Inheritance: Inheriting from one class to multiple classes. \"\"\"\n",
    "class child1(p1):\n",
    "    pass\n",
    "class child2(p1):\n",
    "    pass\n",
    "obj2 = child1()\n",
    "obj3 = child2()\n",
    "print(obj2.f1())\n",
    "print(obj3.f1())  ## here class child1 & child2 , both inheits properties of class p1\n",
    "\n",
    "\"\"\"Single inheritance: concept of inheriting from one class to another class\"\"\"\n",
    "class A:\n",
    "    a = 30\n",
    "class B(A):\n",
    "    pass\n",
    "b = B()\n",
    "print(b.a) # here class B inherits properties of class A"
   ]
  },
  {
   "cell_type": "code",
   "execution_count": null,
   "id": "79328985-5b08-40f5-9426-f4e89e4a99e6",
   "metadata": {},
   "outputs": [],
   "source": []
  }
 ],
 "metadata": {
  "kernelspec": {
   "display_name": "Python 3 (ipykernel)",
   "language": "python",
   "name": "python3"
  },
  "language_info": {
   "codemirror_mode": {
    "name": "ipython",
    "version": 3
   },
   "file_extension": ".py",
   "mimetype": "text/x-python",
   "name": "python",
   "nbconvert_exporter": "python",
   "pygments_lexer": "ipython3",
   "version": "3.10.8"
  }
 },
 "nbformat": 4,
 "nbformat_minor": 5
}
