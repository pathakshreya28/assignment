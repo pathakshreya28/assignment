{
 "cells": [
  {
   "cell_type": "code",
   "execution_count": 1,
   "id": "f16dbd5c-c42a-4fca-b5f6-bc195eba8bb1",
   "metadata": {},
   "outputs": [],
   "source": [
    "##### 10th Feb 2023 Assignment\n",
    "### Topic - File Handeling "
   ]
  },
  {
   "cell_type": "code",
   "execution_count": 2,
   "id": "2d68c250-6a14-4a2a-b892-66e22386d1c9",
   "metadata": {},
   "outputs": [
    {
     "data": {
      "text/plain": [
       "\" for Opening a file  'open()' function is used , it takes two arguments :- file name , mode in which it is to be opened open\\n    diffeent types of  modes :-  r - read only - to read a file - it is also the default value \\n                                 w - write and overwrites previous data - it is also used to create a file \\n                                 a - append i.e write withour overriding \\n                                 r+ - read and write\\n                                 w+ - write and read\\n                                 a+ - append and read \\n                                 wb,rb,ab,wb+,rb+,ab+ - operations in binary format\\n\\n\""
      ]
     },
     "execution_count": 2,
     "metadata": {},
     "output_type": "execute_result"
    }
   ],
   "source": [
    "#Q1. Which function is used to open a file? What are the different modes of opening a file? Explain each mode of file opening.\n",
    "\n",
    "\"\"\" for Opening a file  'open()' function is used , it takes two arguments :- file name , mode in which it is to be opened open\n",
    "    diffeent types of  modes :-  r - read only - to read a file - it is also the default value \n",
    "                                 w - write and overwrites previous data - it is also used to create a file \n",
    "                                 a - append i.e write withour overriding \n",
    "                                 r+ - read and write\n",
    "                                 w+ - write and read\n",
    "                                 a+ - append and read \n",
    "                                 wb,rb,ab,wb+,rb+,ab+ - operations in binary format\n",
    "\n",
    "\"\"\""
   ]
  },
  {
   "cell_type": "code",
   "execution_count": 3,
   "id": "f139b60a-5f66-422e-9536-698326ccc3c8",
   "metadata": {},
   "outputs": [
    {
     "data": {
      "text/plain": [
       "'\\nclose() function is used to close a opened file , after we have done changes to it , \\nit is important to use it as by using it we can ensure that data in file is secure\\nand also we can open a new file \\n\\n'"
      ]
     },
     "execution_count": 3,
     "metadata": {},
     "output_type": "execute_result"
    }
   ],
   "source": [
    "#Q2. Why close() function is used? Why is it important to close a file?\n",
    "\n",
    "\"\"\"\n",
    "close() function is used to close a opened file , after we have done changes to it , \n",
    "it is important to use it as by using it we can ensure that data in file is secure\n",
    "and also we can open a new file \n",
    "\n",
    "\"\"\""
   ]
  },
  {
   "cell_type": "code",
   "execution_count": 4,
   "id": "e815efe6-cfbf-4aab-b46f-97cb468e1a88",
   "metadata": {},
   "outputs": [
    {
     "data": {
      "text/plain": [
       "'\\nclose() function is used to close a opened file , after we have done changes to it , \\nit is important to use it as by using it we can ensure that data in file is secure\\nand also we can open a new file \\n\\n'"
      ]
     },
     "execution_count": 4,
     "metadata": {},
     "output_type": "execute_result"
    }
   ],
   "source": [
    "#Q2. Why close() function is used? Why is it important to close a file?\n",
    "\n",
    "\"\"\"\n",
    "close() function is used to close a opened file , after we have done changes to it , \n",
    "it is important to use it as by using it we can ensure that data in file is secure\n",
    "and also we can open a new file \n",
    "\n",
    "\"\"\""
   ]
  },
  {
   "cell_type": "code",
   "execution_count": 5,
   "id": "87ecf8f5-e50e-4465-94d9-89af6ea28026",
   "metadata": {},
   "outputs": [],
   "source": [
    "#Q3. Write a python program to create a text file. Write ‘I want to become a Data Scientist’ in that file. Then close the file. Open this file and read the content of the file.\n",
    "\n",
    "f = open('10Feb1.txt','w')   ## Creating a new file \n",
    "f.write('I want to become a data scientist')  ## writing in the file \n",
    "f.close()  ## closing the file "
   ]
  },
  {
   "cell_type": "code",
   "execution_count": 6,
   "id": "54d420e2-19ba-4b07-ae69-22f23f463be5",
   "metadata": {},
   "outputs": [
    {
     "name": "stdout",
     "output_type": "stream",
     "text": [
      "I want to become a data scientist\n"
     ]
    }
   ],
   "source": [
    "f = open('10Feb1.txt','r')  ## opening the file in read mode \n",
    "data = f.read()  ## Reading the data ad storing it in a varible\n",
    "f.close()    ## closing the file \n",
    "print(data) ## printing the data stored "
   ]
  },
  {
   "cell_type": "code",
   "execution_count": 7,
   "id": "06c83382-333b-407b-8e4e-c8deb8a00cf0",
   "metadata": {},
   "outputs": [],
   "source": [
    "##  writing the previously created file for further use\n",
    "r = [\"\\nHello I am Naveen Gupta\\n\",\"I am a student yet\\n\",\"I am a Traveller living this journey of life\"]\n",
    "with open('10Feb1.txt','a') as f :\n",
    "    f.write(r[0])\n",
    "    f.write(r[1])\n",
    "    f.write(r[2])"
   ]
  },
  {
   "cell_type": "code",
   "execution_count": 8,
   "id": "9bcfeca2-eb64-4342-9c42-6ec7ee1064f5",
   "metadata": {},
   "outputs": [
    {
     "name": "stdout",
     "output_type": "stream",
     "text": [
      "I want to become a data scientist\n",
      "Hello I am \n",
      "I want to become a data scientist\n",
      "\n",
      "['I want to become a data scientist\\n', 'Hello I am Naveen Gupta\\n', 'I am a student yet\\n', 'I am a Traveller living this journey of life']\n"
     ]
    }
   ],
   "source": [
    "#Q4. Explain the following with python code: read(), readline() and readlines().\n",
    "\n",
    "## These three methods are used to read files \n",
    "\n",
    "###  read(n)  # used to Read data from the fiele , Reads n bytes from the file if given as an argument  , else reads whole file \n",
    "f = open('10Feb1.txt','r')\n",
    "data1 = f.read(45)\n",
    "################\n",
    "f.seek(0) #moving cursor to begining \n",
    "\n",
    "''' readline(n) # Reads a line of the file and returns in form of a string.For specified n,reads at most n bytes. \n",
    "    However, does not reads more than one line, even if n exceeds the length of the line.'''\n",
    "\n",
    "data2 = f.readline(200)\n",
    "f.seek(0)\n",
    "\n",
    "''' readlines() #readlines() : Reads all the lines and return them as each line a string element in a list. '''\n",
    "\n",
    "data3 = f.readlines()\n",
    "##########################\n",
    "# printing the data read\n",
    "print(data1)\n",
    "print(data2)\n",
    "print(data3)"
   ]
  },
  {
   "cell_type": "code",
   "execution_count": 9,
   "id": "9e5eeb43-7da9-4310-831e-54dd0f405594",
   "metadata": {},
   "outputs": [
    {
     "name": "stdout",
     "output_type": "stream",
     "text": [
      "I want to become a data scientist\n",
      "Hello I am \n",
      "I want to become a data scientist\n",
      "\n",
      "['I want to become a data scientist\\n', 'Hello I am Naveen Gupta\\n', 'I am a student yet\\n', 'I am a Traveller living this journey of life']\n"
     ]
    }
   ],
   "source": [
    "#Q4. Explain the following with python code: read(), readline() and readlines().\n",
    "\n",
    "## These three methods are used to read files \n",
    "\n",
    "###  read(n)  # used to Read data from the fiele , Reads n bytes from the file if given as an argument  , else reads whole file \n",
    "f = open('10Feb1.txt','r')\n",
    "data1 = f.read(45)\n",
    "################\n",
    "f.seek(0) #moving cursor to begining \n",
    "\n",
    "''' readline(n) # Reads a line of the file and returns in form of a string.For specified n,reads at most n bytes. \n",
    "    However, does not reads more than one line, even if n exceeds the length of the line.'''\n",
    "\n",
    "data2 = f.readline(200)\n",
    "f.seek(0)\n",
    "\n",
    "''' readlines() #readlines() : Reads all the lines and return them as each line a string element in a list. '''\n",
    "\n",
    "data3 = f.readlines()\n",
    "##########################\n",
    "# printing the data read\n",
    "print(data1)\n",
    "print(data2)\n",
    "print(data3)"
   ]
  },
  {
   "cell_type": "code",
   "execution_count": 10,
   "id": "0f93ef86-dd2e-46e9-b2d4-675ca990d68c",
   "metadata": {},
   "outputs": [
    {
     "data": {
      "text/plain": [
       "'\\nwith statement is used with open because it autmatically closes the file after performinh functions in it ,\\nhence it is more convinient\\n'"
      ]
     },
     "execution_count": 10,
     "metadata": {},
     "output_type": "execute_result"
    }
   ],
   "source": [
    "##Q5. Explain why with statement is used with open(). What is the advantage of using with statement and open() together?\n",
    "\"\"\"\n",
    "with statement is used with open because it autmatically closes the file after performinh functions in it ,\n",
    "hence it is more convinient\n",
    "\"\"\""
   ]
  },
  {
   "cell_type": "code",
   "execution_count": 11,
   "id": "187b28ae-a592-4cf3-814d-095699a403b8",
   "metadata": {},
   "outputs": [
    {
     "name": "stdout",
     "output_type": "stream",
     "text": [
      "I want to become a data scientist\n",
      "Hello I am Naveen Gupta\n",
      "I am a student yet\n",
      "I am a Traveller living this journey of life\n",
      "file testing 1 2 3\n",
      "writing linessss \n",
      "reading linesss \n",
      "\n"
     ]
    }
   ],
   "source": [
    "##Q6. Explain the write() and writelines() functions. Give a suitable example.\n",
    "\n",
    "#write()  #Inserts the given string in a single line in the text file.\n",
    "\n",
    "with open('10Feb1.txt','a+') as f :\n",
    "    f.write('\\nfile testing 1 2 3\\n')\n",
    "#writelines() #For a list of string elements, each string is inserted in the text file. Used to insert multiple strings at a single time.\n",
    "  \n",
    "    f.writelines(['writing linessss \\n','reading linesss \\n'])\n",
    "    f.seek(0)\n",
    "    data4 = f.read()\n",
    "print(data4)"
   ]
  },
  {
   "cell_type": "code",
   "execution_count": null,
   "id": "ee16bdba-e2da-4ca3-b801-2f4d1d756c9c",
   "metadata": {},
   "outputs": [],
   "source": []
  }
 ],
 "metadata": {
  "kernelspec": {
   "display_name": "Python 3 (ipykernel)",
   "language": "python",
   "name": "python3"
  },
  "language_info": {
   "codemirror_mode": {
    "name": "ipython",
    "version": 3
   },
   "file_extension": ".py",
   "mimetype": "text/x-python",
   "name": "python",
   "nbconvert_exporter": "python",
   "pygments_lexer": "ipython3",
   "version": "3.10.8"
  }
 },
 "nbformat": 4,
 "nbformat_minor": 5
}
