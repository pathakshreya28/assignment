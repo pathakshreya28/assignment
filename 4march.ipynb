{
 "cells": [
  {
   "cell_type": "code",
   "execution_count": null,
   "id": "0ac90a18-c4e1-4a1d-81d9-22f91d607e19",
   "metadata": {},
   "outputs": [],
   "source": [
    "Q1. Load the \"titanic\" dataset using the load_dataset function of seaborn. Use Plotly express to plot a\n",
    "scatter plot for age and fare columns in the titanic dataset.\n",
    "Ans- \n",
    "    Here's the code to load the \"titanic\" dataset using seaborn and create a scatter plot for the \"age\" and \"fare\" columns using Plotly Express:\n",
    "      \n",
    "import seaborn as sns\n",
    "import plotly.express as px\n",
    "\n",
    "# Load the titanic dataset from seaborn\n",
    "titanic_df = sns.load_dataset('titanic')\n",
    "\n",
    "# Create a scatter plot using Plotly Express\n",
    "fig = px.scatter(titanic_df, x='age', y='fare')\n",
    "\n",
    "# Show the plot\n",
    "fig.show()\n",
    "\n",
    "This code first loads the \"titanic\" dataset using the sns.load_dataset function from Seaborn. Then, it creates a scatter plot using the px.scatter function from Plotly Express, specifying the \"age\" column as the x-axis and the \"fare\" column as the y-axis. Finally, it displays the plot using the fig.show() method.\n",
    "        "
   ]
  },
  {
   "cell_type": "code",
   "execution_count": null,
   "id": "e474cfda-c3fe-413a-96ac-6eefbdce4e98",
   "metadata": {},
   "outputs": [],
   "source": [
    "Q2. Using the tips dataset in the Plotly library, plot a box plot using Plotly express.\n",
    "Ans-\n",
    "     Here's the code to load the \"tips\" dataset from Plotly Express and create a box plot:\n",
    "        \n",
    "import plotly.express as px\n",
    "\n",
    "# Load the tips dataset from Plotly Express\n",
    "tips_df = px.data.tips()\n",
    "\n",
    "# Create a box plot using Plotly Express\n",
    "fig = px.box(tips_df, x='day', y='total_bill')\n",
    "\n",
    "# Show the plot\n",
    "fig.show()\n",
    "\n",
    "This code first loads the \"tips\" dataset using the px.data.tips() function from Plotly Express. Then, it creates a box plot using the px.box function, specifying the \"day\" colum"
   ]
  },
  {
   "cell_type": "code",
   "execution_count": null,
   "id": "ece7f34f-421c-4ae9-b57a-9e7b1d8892fe",
   "metadata": {},
   "outputs": [],
   "source": [
    "Q.3 Using the tips dataset in the Plotly library, Plot a histogram for x= \"sex\" and y=\"total_bill\" column in\n",
    "the tips dataset. Also, use the \"smoker\" column with the pattern_shape parameter and the \"day\"\n",
    "column with the color parameter.\n",
    "Ans-\n",
    "    Here's the code to load the \"tips\" dataset from Plotly Express and create a histogram plot with additional parameters:\n",
    "\n",
    "import plotly.express as px\n",
    "\n",
    "# Load the tips dataset from Plotly Express\n",
    "tips_df = px.data.tips()\n",
    "\n",
    "# Create a histogram plot using Plotly Express\n",
    "fig = px.histogram(tips_df, x='sex', y='total_bill', color='day', pattern_shape='smoker')\n",
    "\n",
    "# Show the plot\n",
    "fig.show()\n",
    "\n",
    "This code creates a histogram plot using the px.histogram function from Plotly Express. The \"sex\" column is used as the x-axis, the \"total_bill\" column is used as the y-axis, and the \"day\" column is used as the color parameter. The \"smoker\" column is used with the pattern_shape parameter to create different patterns for smokers and non-smokers.\n",
    "\n",
    "Note that a histogram plot typically shows the distribution of a single variable, so the use of the \"sex\" column as the x-axis is a bit unconventional. Nonetheless, this code cr"
   ]
  },
  {
   "cell_type": "code",
   "execution_count": null,
   "id": "022971ec-a204-43fa-9db4-aa8b48a9e47f",
   "metadata": {},
   "outputs": [],
   "source": [
    "Q.4 Using the iris dataset in the Plotly library, Plot a scatter matrix plot, using the \"species\" column for\n",
    "the color parameter.\n",
    "Note: Use \"sepal_length\", \"sepal_width\", \"petal_length\", \"petal_width\" columns only with the\n",
    "dimensions parameter.\n",
    "Ans-\n",
    "    Here's the code to load the \"iris\" dataset from Plotly Express and create a scatter matrix plot with the \"species\" column used for the color parameter and only the specified columns included in the plot:\n",
    "    \n",
    "import plotly.express as px\n",
    "\n",
    "# Load the iris dataset from Plotly Express\n",
    "iris_df = px.data.iris()\n",
    "\n",
    "# Create a scatter matrix plot using Plotly Express\n",
    "fig = px.scatter_matrix(iris_df, dimensions=['sepal_length', 'sepal_width', 'petal_length', 'petal_width'], color='species')\n",
    "\n",
    "# Show the plot\n",
    "fig.show()\n",
    "\n",
    "This code creates a scatter matrix plot using the px.scatter_matrix function from Plotly Express. The \"species\" column is used as the color parameter to d"
   ]
  },
  {
   "cell_type": "code",
   "execution_count": null,
   "id": "8a00d301-01c5-41ad-a0f6-60da3c145728",
   "metadata": {},
   "outputs": [],
   "source": [
    "Q.5 What is Distplot? Using Plotly express, plot a distplot.\n",
    "Ans-\n",
    "   Distplot is a type of plot that combines a histogram and a density plot, providing a visual representation of the distribution of a numerical variable. In Plotly Express, the distplot function is used to create distplots. Here's an example of how to use the distplot function to plot a distplot using the \"total_bill\" column of the \"tips\" dataset:\n",
    "    \n",
    "import plotly.express as px\n",
    "\n",
    "# Load the tips dataset from Plotly Express\n",
    "tips_df = px.data.tips()\n",
    "\n",
    "# Create a distplot using Plotly Express\n",
    "fig = px.histogram(tips_df, x='total_bill', nbins=20, opacity=0.7, color_discrete_sequence=['blue'])\n",
    "\n",
    "# Add a density curve to the distplot\n",
    "fig.update_traces(histnorm='density', rug=True)\n",
    "\n",
    "# Show the plot\n",
    "fig.show()\n",
    "\n",
    "This code creates a distplot using the px.histogram function from Plotly Express. The \"total_bill\" column is used as the x parameter, and the number of bins is se"
   ]
  }
 ],
 "metadata": {
  "kernelspec": {
   "display_name": "Python 3 (ipykernel)",
   "language": "python",
   "name": "python3"
  },
  "language_info": {
   "codemirror_mode": {
    "name": "ipython",
    "version": 3
   },
   "file_extension": ".py",
   "mimetype": "text/x-python",
   "name": "python",
   "nbconvert_exporter": "python",
   "pygments_lexer": "ipython3",
   "version": "3.10.8"
  }
 },
 "nbformat": 4,
 "nbformat_minor": 5
}
